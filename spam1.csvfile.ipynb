{
 "cells": [
  {
   "cell_type": "markdown",
   "id": "8c4c1411",
   "metadata": {},
   "source": [
    "# Natural Language Processing (NLP)"
   ]
  },
  {
   "cell_type": "raw",
   "id": "31fb1c49",
   "metadata": {},
   "source": [
    "Natural language processing (NLP) refers to the branch of computer science—and more specifically, the branch of artificial intelligence or AI—concerned with giving computers the ability to understand text and spoken words in much the same way human beings can."
   ]
  },
  {
   "cell_type": "code",
   "execution_count": null,
   "id": "7cb8a6af",
   "metadata": {},
   "outputs": [],
   "source": []
  },
  {
   "cell_type": "markdown",
   "id": "a119b39d",
   "metadata": {},
   "source": [
    "# NLP model with ML on spam1 dataset"
   ]
  },
  {
   "cell_type": "code",
   "execution_count": 1,
   "id": "7ebc33e8",
   "metadata": {},
   "outputs": [],
   "source": [
    "import pandas as pd\n",
    "import numpy as np\n",
    "import matplotlib.pyplot as plt\n",
    "import seaborn as sns \n",
    "import math"
   ]
  },
  {
   "cell_type": "code",
   "execution_count": 2,
   "id": "4e1affcf",
   "metadata": {},
   "outputs": [],
   "source": [
    "messages= pd.read_csv(r\"D:\\Python\\Python data set lec\\NLP\\spam1.csv\" , encoding='cp1252')     "
   ]
  },
  {
   "cell_type": "code",
   "execution_count": 3,
   "id": "c6b35e7f",
   "metadata": {
    "scrolled": true
   },
   "outputs": [
    {
     "data": {
      "text/html": [
       "<div>\n",
       "<style scoped>\n",
       "    .dataframe tbody tr th:only-of-type {\n",
       "        vertical-align: middle;\n",
       "    }\n",
       "\n",
       "    .dataframe tbody tr th {\n",
       "        vertical-align: top;\n",
       "    }\n",
       "\n",
       "    .dataframe thead th {\n",
       "        text-align: right;\n",
       "    }\n",
       "</style>\n",
       "<table border=\"1\" class=\"dataframe\">\n",
       "  <thead>\n",
       "    <tr style=\"text-align: right;\">\n",
       "      <th></th>\n",
       "      <th>v1</th>\n",
       "      <th>v2</th>\n",
       "      <th>Unnamed: 2</th>\n",
       "      <th>Unnamed: 3</th>\n",
       "      <th>Unnamed: 4</th>\n",
       "    </tr>\n",
       "  </thead>\n",
       "  <tbody>\n",
       "    <tr>\n",
       "      <th>0</th>\n",
       "      <td>ham</td>\n",
       "      <td>Go until jurong point, crazy.. Available only ...</td>\n",
       "      <td>NaN</td>\n",
       "      <td>NaN</td>\n",
       "      <td>NaN</td>\n",
       "    </tr>\n",
       "    <tr>\n",
       "      <th>1</th>\n",
       "      <td>ham</td>\n",
       "      <td>Ok lar... Joking wif u oni...</td>\n",
       "      <td>NaN</td>\n",
       "      <td>NaN</td>\n",
       "      <td>NaN</td>\n",
       "    </tr>\n",
       "    <tr>\n",
       "      <th>2</th>\n",
       "      <td>spam</td>\n",
       "      <td>Free entry in 2 a wkly comp to win FA Cup fina...</td>\n",
       "      <td>NaN</td>\n",
       "      <td>NaN</td>\n",
       "      <td>NaN</td>\n",
       "    </tr>\n",
       "    <tr>\n",
       "      <th>3</th>\n",
       "      <td>ham</td>\n",
       "      <td>U dun say so early hor... U c already then say...</td>\n",
       "      <td>NaN</td>\n",
       "      <td>NaN</td>\n",
       "      <td>NaN</td>\n",
       "    </tr>\n",
       "    <tr>\n",
       "      <th>4</th>\n",
       "      <td>ham</td>\n",
       "      <td>Nah I don't think he goes to usf, he lives aro...</td>\n",
       "      <td>NaN</td>\n",
       "      <td>NaN</td>\n",
       "      <td>NaN</td>\n",
       "    </tr>\n",
       "  </tbody>\n",
       "</table>\n",
       "</div>"
      ],
      "text/plain": [
       "     v1                                                 v2 Unnamed: 2  \\\n",
       "0   ham  Go until jurong point, crazy.. Available only ...        NaN   \n",
       "1   ham                      Ok lar... Joking wif u oni...        NaN   \n",
       "2  spam  Free entry in 2 a wkly comp to win FA Cup fina...        NaN   \n",
       "3   ham  U dun say so early hor... U c already then say...        NaN   \n",
       "4   ham  Nah I don't think he goes to usf, he lives aro...        NaN   \n",
       "\n",
       "  Unnamed: 3 Unnamed: 4  \n",
       "0        NaN        NaN  \n",
       "1        NaN        NaN  \n",
       "2        NaN        NaN  \n",
       "3        NaN        NaN  \n",
       "4        NaN        NaN  "
      ]
     },
     "execution_count": 3,
     "metadata": {},
     "output_type": "execute_result"
    }
   ],
   "source": [
    "messages.head()"
   ]
  },
  {
   "cell_type": "code",
   "execution_count": 4,
   "id": "225ae7f7",
   "metadata": {},
   "outputs": [
    {
     "data": {
      "text/plain": [
       "(6776, 5)"
      ]
     },
     "execution_count": 4,
     "metadata": {},
     "output_type": "execute_result"
    }
   ],
   "source": [
    "messages.shape"
   ]
  },
  {
   "cell_type": "markdown",
   "id": "7b121914",
   "metadata": {},
   "source": [
    "# To check the null values"
   ]
  },
  {
   "cell_type": "code",
   "execution_count": 5,
   "id": "3cdaf36a",
   "metadata": {},
   "outputs": [
    {
     "data": {
      "text/plain": [
       "v1               0\n",
       "v2               0\n",
       "Unnamed: 2    6720\n",
       "Unnamed: 3    6760\n",
       "Unnamed: 4    6768\n",
       "dtype: int64"
      ]
     },
     "execution_count": 5,
     "metadata": {},
     "output_type": "execute_result"
    }
   ],
   "source": [
    "messages.isnull().sum()"
   ]
  },
  {
   "cell_type": "markdown",
   "id": "c6730e85",
   "metadata": {},
   "source": [
    "# Select only required features"
   ]
  },
  {
   "cell_type": "code",
   "execution_count": 6,
   "id": "7ddeea7b",
   "metadata": {},
   "outputs": [],
   "source": [
    "messages = messages.iloc[: , [0,1]]"
   ]
  },
  {
   "cell_type": "code",
   "execution_count": 7,
   "id": "f76f3158",
   "metadata": {},
   "outputs": [
    {
     "data": {
      "text/html": [
       "<div>\n",
       "<style scoped>\n",
       "    .dataframe tbody tr th:only-of-type {\n",
       "        vertical-align: middle;\n",
       "    }\n",
       "\n",
       "    .dataframe tbody tr th {\n",
       "        vertical-align: top;\n",
       "    }\n",
       "\n",
       "    .dataframe thead th {\n",
       "        text-align: right;\n",
       "    }\n",
       "</style>\n",
       "<table border=\"1\" class=\"dataframe\">\n",
       "  <thead>\n",
       "    <tr style=\"text-align: right;\">\n",
       "      <th></th>\n",
       "      <th>v1</th>\n",
       "      <th>v2</th>\n",
       "    </tr>\n",
       "  </thead>\n",
       "  <tbody>\n",
       "    <tr>\n",
       "      <th>0</th>\n",
       "      <td>ham</td>\n",
       "      <td>Go until jurong point, crazy.. Available only ...</td>\n",
       "    </tr>\n",
       "    <tr>\n",
       "      <th>1</th>\n",
       "      <td>ham</td>\n",
       "      <td>Ok lar... Joking wif u oni...</td>\n",
       "    </tr>\n",
       "    <tr>\n",
       "      <th>2</th>\n",
       "      <td>spam</td>\n",
       "      <td>Free entry in 2 a wkly comp to win FA Cup fina...</td>\n",
       "    </tr>\n",
       "    <tr>\n",
       "      <th>3</th>\n",
       "      <td>ham</td>\n",
       "      <td>U dun say so early hor... U c already then say...</td>\n",
       "    </tr>\n",
       "    <tr>\n",
       "      <th>4</th>\n",
       "      <td>ham</td>\n",
       "      <td>Nah I don't think he goes to usf, he lives aro...</td>\n",
       "    </tr>\n",
       "  </tbody>\n",
       "</table>\n",
       "</div>"
      ],
      "text/plain": [
       "     v1                                                 v2\n",
       "0   ham  Go until jurong point, crazy.. Available only ...\n",
       "1   ham                      Ok lar... Joking wif u oni...\n",
       "2  spam  Free entry in 2 a wkly comp to win FA Cup fina...\n",
       "3   ham  U dun say so early hor... U c already then say...\n",
       "4   ham  Nah I don't think he goes to usf, he lives aro..."
      ]
     },
     "execution_count": 7,
     "metadata": {},
     "output_type": "execute_result"
    }
   ],
   "source": [
    "messages.head()"
   ]
  },
  {
   "cell_type": "markdown",
   "id": "ab393014",
   "metadata": {},
   "source": [
    "# Rename the columns"
   ]
  },
  {
   "cell_type": "code",
   "execution_count": 8,
   "id": "a95a52bf",
   "metadata": {},
   "outputs": [],
   "source": [
    "messages.rename(columns={ 'v1' : 'label' , 'v2' : 'message' } , inplace=True)"
   ]
  },
  {
   "cell_type": "code",
   "execution_count": 9,
   "id": "8e16d5a9",
   "metadata": {
    "scrolled": true
   },
   "outputs": [
    {
     "data": {
      "text/html": [
       "<div>\n",
       "<style scoped>\n",
       "    .dataframe tbody tr th:only-of-type {\n",
       "        vertical-align: middle;\n",
       "    }\n",
       "\n",
       "    .dataframe tbody tr th {\n",
       "        vertical-align: top;\n",
       "    }\n",
       "\n",
       "    .dataframe thead th {\n",
       "        text-align: right;\n",
       "    }\n",
       "</style>\n",
       "<table border=\"1\" class=\"dataframe\">\n",
       "  <thead>\n",
       "    <tr style=\"text-align: right;\">\n",
       "      <th></th>\n",
       "      <th>label</th>\n",
       "      <th>message</th>\n",
       "    </tr>\n",
       "  </thead>\n",
       "  <tbody>\n",
       "    <tr>\n",
       "      <th>0</th>\n",
       "      <td>ham</td>\n",
       "      <td>Go until jurong point, crazy.. Available only ...</td>\n",
       "    </tr>\n",
       "    <tr>\n",
       "      <th>1</th>\n",
       "      <td>ham</td>\n",
       "      <td>Ok lar... Joking wif u oni...</td>\n",
       "    </tr>\n",
       "    <tr>\n",
       "      <th>2</th>\n",
       "      <td>spam</td>\n",
       "      <td>Free entry in 2 a wkly comp to win FA Cup fina...</td>\n",
       "    </tr>\n",
       "    <tr>\n",
       "      <th>3</th>\n",
       "      <td>ham</td>\n",
       "      <td>U dun say so early hor... U c already then say...</td>\n",
       "    </tr>\n",
       "    <tr>\n",
       "      <th>4</th>\n",
       "      <td>ham</td>\n",
       "      <td>Nah I don't think he goes to usf, he lives aro...</td>\n",
       "    </tr>\n",
       "  </tbody>\n",
       "</table>\n",
       "</div>"
      ],
      "text/plain": [
       "  label                                            message\n",
       "0   ham  Go until jurong point, crazy.. Available only ...\n",
       "1   ham                      Ok lar... Joking wif u oni...\n",
       "2  spam  Free entry in 2 a wkly comp to win FA Cup fina...\n",
       "3   ham  U dun say so early hor... U c already then say...\n",
       "4   ham  Nah I don't think he goes to usf, he lives aro..."
      ]
     },
     "execution_count": 9,
     "metadata": {},
     "output_type": "execute_result"
    }
   ],
   "source": [
    "messages.head()"
   ]
  },
  {
   "cell_type": "code",
   "execution_count": 10,
   "id": "60cebba6",
   "metadata": {},
   "outputs": [
    {
     "data": {
      "text/plain": [
       "ham     5854\n",
       "spam     922\n",
       "Name: label, dtype: int64"
      ]
     },
     "execution_count": 10,
     "metadata": {},
     "output_type": "execute_result"
    }
   ],
   "source": [
    "messages.label.value_counts()"
   ]
  },
  {
   "cell_type": "markdown",
   "id": "f60a3d20",
   "metadata": {},
   "source": [
    "# convert the target feature into numeric "
   ]
  },
  {
   "cell_type": "code",
   "execution_count": 11,
   "id": "834fb418",
   "metadata": {},
   "outputs": [],
   "source": [
    "messages.label.replace({'ham' : 0 , 'spam' : 1} , inplace=True)"
   ]
  },
  {
   "cell_type": "code",
   "execution_count": 12,
   "id": "f0f66c9b",
   "metadata": {},
   "outputs": [
    {
     "data": {
      "text/plain": [
       "0    5854\n",
       "1     922\n",
       "Name: label, dtype: int64"
      ]
     },
     "execution_count": 12,
     "metadata": {},
     "output_type": "execute_result"
    }
   ],
   "source": [
    "messages.label.value_counts()"
   ]
  },
  {
   "cell_type": "markdown",
   "id": "169ecf59",
   "metadata": {},
   "source": [
    "# Process the Data"
   ]
  },
  {
   "cell_type": "raw",
   "id": "0dbea828",
   "metadata": {},
   "source": [
    "After analyzing the dataset, the next step is to preprocess the dataset into the right format before creating our machine learning model.\n",
    "\n",
    "The reviews in this dataset contain a lot of unnecessary words and characters that we don't need when creating a machine learning model , also their is some upper & lower case string which we have to convert it into either lower case or upper case.\n",
    "\n",
    "We will clean the messages by removing stopwords, numbers, and punctuation. Then we will convert each word into its base form."
   ]
  },
  {
   "cell_type": "markdown",
   "id": "411aa9fc",
   "metadata": {},
   "source": [
    "# Convert all upper string case into lower string case "
   ]
  },
  {
   "cell_type": "code",
   "execution_count": 14,
   "id": "ebbe0bfb",
   "metadata": {},
   "outputs": [],
   "source": [
    "messages.message = messages.message.str.lower()  # convert into lower case "
   ]
  },
  {
   "cell_type": "code",
   "execution_count": 15,
   "id": "fd1cebc3",
   "metadata": {},
   "outputs": [
    {
     "data": {
      "text/html": [
       "<div>\n",
       "<style scoped>\n",
       "    .dataframe tbody tr th:only-of-type {\n",
       "        vertical-align: middle;\n",
       "    }\n",
       "\n",
       "    .dataframe tbody tr th {\n",
       "        vertical-align: top;\n",
       "    }\n",
       "\n",
       "    .dataframe thead th {\n",
       "        text-align: right;\n",
       "    }\n",
       "</style>\n",
       "<table border=\"1\" class=\"dataframe\">\n",
       "  <thead>\n",
       "    <tr style=\"text-align: right;\">\n",
       "      <th></th>\n",
       "      <th>label</th>\n",
       "      <th>message</th>\n",
       "    </tr>\n",
       "  </thead>\n",
       "  <tbody>\n",
       "    <tr>\n",
       "      <th>0</th>\n",
       "      <td>0</td>\n",
       "      <td>go until jurong point, crazy.. available only ...</td>\n",
       "    </tr>\n",
       "    <tr>\n",
       "      <th>1</th>\n",
       "      <td>0</td>\n",
       "      <td>ok lar... joking wif u oni...</td>\n",
       "    </tr>\n",
       "    <tr>\n",
       "      <th>2</th>\n",
       "      <td>1</td>\n",
       "      <td>free entry in 2 a wkly comp to win fa cup fina...</td>\n",
       "    </tr>\n",
       "    <tr>\n",
       "      <th>3</th>\n",
       "      <td>0</td>\n",
       "      <td>u dun say so early hor... u c already then say...</td>\n",
       "    </tr>\n",
       "    <tr>\n",
       "      <th>4</th>\n",
       "      <td>0</td>\n",
       "      <td>nah i don't think he goes to usf, he lives aro...</td>\n",
       "    </tr>\n",
       "  </tbody>\n",
       "</table>\n",
       "</div>"
      ],
      "text/plain": [
       "   label                                            message\n",
       "0      0  go until jurong point, crazy.. available only ...\n",
       "1      0                      ok lar... joking wif u oni...\n",
       "2      1  free entry in 2 a wkly comp to win fa cup fina...\n",
       "3      0  u dun say so early hor... u c already then say...\n",
       "4      0  nah i don't think he goes to usf, he lives aro..."
      ]
     },
     "execution_count": 15,
     "metadata": {},
     "output_type": "execute_result"
    }
   ],
   "source": [
    "messages.head()"
   ]
  },
  {
   "cell_type": "markdown",
   "id": "4addaf70",
   "metadata": {},
   "source": [
    "# Remove the stopwords & punctuation marks by using user-defined function"
   ]
  },
  {
   "cell_type": "code",
   "execution_count": 16,
   "id": "b365dc78",
   "metadata": {},
   "outputs": [],
   "source": [
    "from nltk.corpus import stopwords"
   ]
  },
  {
   "cell_type": "markdown",
   "id": "e856eb71",
   "metadata": {},
   "source": [
    "#import nltk"
   ]
  },
  {
   "cell_type": "markdown",
   "id": "db01446f",
   "metadata": {
    "scrolled": true
   },
   "source": [
    "#nltk.download('stopwords')"
   ]
  },
  {
   "cell_type": "code",
   "execution_count": 17,
   "id": "71f06219",
   "metadata": {
    "scrolled": true
   },
   "outputs": [
    {
     "data": {
      "text/plain": [
       "['i',\n",
       " 'me',\n",
       " 'my',\n",
       " 'myself',\n",
       " 'we',\n",
       " 'our',\n",
       " 'ours',\n",
       " 'ourselves',\n",
       " 'you',\n",
       " \"you're\",\n",
       " \"you've\",\n",
       " \"you'll\",\n",
       " \"you'd\",\n",
       " 'your',\n",
       " 'yours',\n",
       " 'yourself',\n",
       " 'yourselves',\n",
       " 'he',\n",
       " 'him',\n",
       " 'his',\n",
       " 'himself',\n",
       " 'she',\n",
       " \"she's\",\n",
       " 'her',\n",
       " 'hers',\n",
       " 'herself',\n",
       " 'it',\n",
       " \"it's\",\n",
       " 'its',\n",
       " 'itself',\n",
       " 'they',\n",
       " 'them',\n",
       " 'their',\n",
       " 'theirs',\n",
       " 'themselves',\n",
       " 'what',\n",
       " 'which',\n",
       " 'who',\n",
       " 'whom',\n",
       " 'this',\n",
       " 'that',\n",
       " \"that'll\",\n",
       " 'these',\n",
       " 'those',\n",
       " 'am',\n",
       " 'is',\n",
       " 'are',\n",
       " 'was',\n",
       " 'were',\n",
       " 'be',\n",
       " 'been',\n",
       " 'being',\n",
       " 'have',\n",
       " 'has',\n",
       " 'had',\n",
       " 'having',\n",
       " 'do',\n",
       " 'does',\n",
       " 'did',\n",
       " 'doing',\n",
       " 'a',\n",
       " 'an',\n",
       " 'the',\n",
       " 'and',\n",
       " 'but',\n",
       " 'if',\n",
       " 'or',\n",
       " 'because',\n",
       " 'as',\n",
       " 'until',\n",
       " 'while',\n",
       " 'of',\n",
       " 'at',\n",
       " 'by',\n",
       " 'for',\n",
       " 'with',\n",
       " 'about',\n",
       " 'against',\n",
       " 'between',\n",
       " 'into',\n",
       " 'through',\n",
       " 'during',\n",
       " 'before',\n",
       " 'after',\n",
       " 'above',\n",
       " 'below',\n",
       " 'to',\n",
       " 'from',\n",
       " 'up',\n",
       " 'down',\n",
       " 'in',\n",
       " 'out',\n",
       " 'on',\n",
       " 'off',\n",
       " 'over',\n",
       " 'under',\n",
       " 'again',\n",
       " 'further',\n",
       " 'then',\n",
       " 'once',\n",
       " 'here',\n",
       " 'there',\n",
       " 'when',\n",
       " 'where',\n",
       " 'why',\n",
       " 'how',\n",
       " 'all',\n",
       " 'any',\n",
       " 'both',\n",
       " 'each',\n",
       " 'few',\n",
       " 'more',\n",
       " 'most',\n",
       " 'other',\n",
       " 'some',\n",
       " 'such',\n",
       " 'no',\n",
       " 'nor',\n",
       " 'not',\n",
       " 'only',\n",
       " 'own',\n",
       " 'same',\n",
       " 'so',\n",
       " 'than',\n",
       " 'too',\n",
       " 'very',\n",
       " 's',\n",
       " 't',\n",
       " 'can',\n",
       " 'will',\n",
       " 'just',\n",
       " 'don',\n",
       " \"don't\",\n",
       " 'should',\n",
       " \"should've\",\n",
       " 'now',\n",
       " 'd',\n",
       " 'll',\n",
       " 'm',\n",
       " 'o',\n",
       " 're',\n",
       " 've',\n",
       " 'y',\n",
       " 'ain',\n",
       " 'aren',\n",
       " \"aren't\",\n",
       " 'couldn',\n",
       " \"couldn't\",\n",
       " 'didn',\n",
       " \"didn't\",\n",
       " 'doesn',\n",
       " \"doesn't\",\n",
       " 'hadn',\n",
       " \"hadn't\",\n",
       " 'hasn',\n",
       " \"hasn't\",\n",
       " 'haven',\n",
       " \"haven't\",\n",
       " 'isn',\n",
       " \"isn't\",\n",
       " 'ma',\n",
       " 'mightn',\n",
       " \"mightn't\",\n",
       " 'mustn',\n",
       " \"mustn't\",\n",
       " 'needn',\n",
       " \"needn't\",\n",
       " 'shan',\n",
       " \"shan't\",\n",
       " 'shouldn',\n",
       " \"shouldn't\",\n",
       " 'wasn',\n",
       " \"wasn't\",\n",
       " 'weren',\n",
       " \"weren't\",\n",
       " 'won',\n",
       " \"won't\",\n",
       " 'wouldn',\n",
       " \"wouldn't\"]"
      ]
     },
     "execution_count": 17,
     "metadata": {},
     "output_type": "execute_result"
    }
   ],
   "source": [
    "stopwords.words('english')"
   ]
  },
  {
   "cell_type": "code",
   "execution_count": 18,
   "id": "141f5af3",
   "metadata": {},
   "outputs": [
    {
     "data": {
      "text/plain": [
       "179"
      ]
     },
     "execution_count": 18,
     "metadata": {},
     "output_type": "execute_result"
    }
   ],
   "source": [
    "len(stopwords.words('english'))"
   ]
  },
  {
   "cell_type": "code",
   "execution_count": 19,
   "id": "32a295f3",
   "metadata": {},
   "outputs": [],
   "source": [
    "import string"
   ]
  },
  {
   "cell_type": "code",
   "execution_count": 20,
   "id": "d3735444",
   "metadata": {},
   "outputs": [
    {
     "data": {
      "text/plain": [
       "'!\"#$%&\\'()*+,-./:;<=>?@[\\\\]^_`{|}~'"
      ]
     },
     "execution_count": 20,
     "metadata": {},
     "output_type": "execute_result"
    }
   ],
   "source": [
    "string.punctuation"
   ]
  },
  {
   "cell_type": "code",
   "execution_count": 21,
   "id": "a969b209",
   "metadata": {},
   "outputs": [],
   "source": [
    "# Below code is for removing a stop words & punctuation "
   ]
  },
  {
   "cell_type": "code",
   "execution_count": 22,
   "id": "22573ba0",
   "metadata": {},
   "outputs": [],
   "source": [
    "def text_process(mess):            ### creating a function\n",
    "    \"\"\"                                                        ## A docstring\n",
    "    1. remove the punctuation\n",
    "    2. remove the stopwords\n",
    "    3. return the list of clean textwords\n",
    "    \n",
    "    \"\"\"\n",
    "    nopunc = [char for char in mess if char not in string.punctuation]\n",
    "    nopunc = \"\".join(nopunc)\n",
    "    \n",
    "    return [ word for word in nopunc.split() if word not in stopwords.words(\"english\")]\n"
   ]
  },
  {
   "cell_type": "code",
   "execution_count": 23,
   "id": "b3268d59",
   "metadata": {},
   "outputs": [
    {
     "data": {
      "text/plain": [
       "0       [go, jurong, point, crazy, available, bugis, n...\n",
       "1                          [ok, lar, joking, wif, u, oni]\n",
       "2       [free, entry, 2, wkly, comp, win, fa, cup, fin...\n",
       "3           [u, dun, say, early, hor, u, c, already, say]\n",
       "4       [nah, dont, think, goes, usf, lives, around, t...\n",
       "                              ...                        \n",
       "6771    [2nd, time, tried, 2, contact, u, u, å£750, po...\n",
       "6772                   [ì, b, going, esplanade, fr, home]\n",
       "6773                     [pity, mood, soany, suggestions]\n",
       "6774    [guy, bitching, acted, like, id, interested, b...\n",
       "6775                                   [rofl, true, name]\n",
       "Name: message, Length: 6776, dtype: object"
      ]
     },
     "execution_count": 23,
     "metadata": {},
     "output_type": "execute_result"
    }
   ],
   "source": [
    "messages['message'].apply(text_process)"
   ]
  },
  {
   "cell_type": "markdown",
   "id": "636ede80",
   "metadata": {},
   "source": [
    "# CountVectorizer ... Count of each & every words"
   ]
  },
  {
   "cell_type": "code",
   "execution_count": 24,
   "id": "f6593c5b",
   "metadata": {},
   "outputs": [],
   "source": [
    "from sklearn.feature_extraction.text import CountVectorizer\n",
    "\n",
    " # it is used to get count of each & every word "
   ]
  },
  {
   "cell_type": "code",
   "execution_count": 25,
   "id": "1ee64901",
   "metadata": {},
   "outputs": [],
   "source": [
    "bow_transformer = CountVectorizer(analyzer = text_process).fit(messages['message'])\n",
    " \n",
    "    # analyzer is part of syntax"
   ]
  },
  {
   "cell_type": "code",
   "execution_count": 26,
   "id": "a9906388",
   "metadata": {},
   "outputs": [
    {
     "data": {
      "text/plain": [
       "{'go': 3744,\n",
       " 'jurong': 4640,\n",
       " 'point': 6371,\n",
       " 'crazy': 2459,\n",
       " 'available': 1373,\n",
       " 'bugis': 1836,\n",
       " 'n': 5620,\n",
       " 'great': 3841,\n",
       " 'world': 9100,\n",
       " 'la': 4799,\n",
       " 'e': 2984,\n",
       " 'buffet': 1834,\n",
       " 'cine': 2174,\n",
       " 'got': 3801,\n",
       " 'amore': 1140,\n",
       " 'wat': 8863,\n",
       " 'ok': 5936,\n",
       " 'lar': 4838,\n",
       " 'joking': 4608,\n",
       " 'wif': 8996,\n",
       " 'u': 8527,\n",
       " 'oni': 5968,\n",
       " 'free': 3535,\n",
       " 'entry': 3119,\n",
       " '2': 414,\n",
       " 'wkly': 9052,\n",
       " 'comp': 2290,\n",
       " 'win': 9010,\n",
       " 'fa': 3257,\n",
       " 'cup': 2514,\n",
       " 'final': 3381,\n",
       " 'tkts': 8304,\n",
       " '21st': 434,\n",
       " 'may': 5283,\n",
       " '2005': 421,\n",
       " 'text': 8143,\n",
       " '87121': 836,\n",
       " 'receive': 6769,\n",
       " 'questionstd': 6660,\n",
       " 'txt': 8511,\n",
       " 'ratetcs': 6713,\n",
       " 'apply': 1226,\n",
       " '08452810075over18s': 71,\n",
       " 'dun': 2970,\n",
       " 'say': 7123,\n",
       " 'early': 2991,\n",
       " 'hor': 4171,\n",
       " 'c': 1885,\n",
       " 'already': 1114,\n",
       " 'nah': 5627,\n",
       " 'dont': 2878,\n",
       " 'think': 8217,\n",
       " 'goes': 3758,\n",
       " 'usf': 8657,\n",
       " 'lives': 5000,\n",
       " 'around': 1277,\n",
       " 'though': 8236,\n",
       " 'freemsg': 3543,\n",
       " 'hey': 4067,\n",
       " 'darling': 2578,\n",
       " '3': 518,\n",
       " 'weeks': 8916,\n",
       " 'word': 9086,\n",
       " 'back': 1424,\n",
       " 'id': 4290,\n",
       " 'like': 4950,\n",
       " 'fun': 3606,\n",
       " 'still': 7786,\n",
       " 'tb': 8073,\n",
       " 'xxx': 9225,\n",
       " 'std': 7761,\n",
       " 'chgs': 2119,\n",
       " 'send': 7217,\n",
       " 'å£150': 9363,\n",
       " 'rcv': 6725,\n",
       " 'even': 3166,\n",
       " 'brother': 1803,\n",
       " 'speak': 7633,\n",
       " 'treat': 8437,\n",
       " 'aids': 1060,\n",
       " 'patent': 6166,\n",
       " 'per': 6207,\n",
       " 'request': 6882,\n",
       " 'melle': 5326,\n",
       " 'oru': 6032,\n",
       " 'minnaminunginte': 5408,\n",
       " 'nurungu': 5865,\n",
       " 'vettam': 8720,\n",
       " 'set': 7246,\n",
       " 'callertune': 1921,\n",
       " 'callers': 1920,\n",
       " 'press': 6499,\n",
       " '9': 874,\n",
       " 'copy': 2395,\n",
       " 'friends': 3567,\n",
       " 'winner': 9021,\n",
       " 'valued': 8691,\n",
       " 'network': 5703,\n",
       " 'customer': 2527,\n",
       " 'selected': 7203,\n",
       " 'receivea': 6770,\n",
       " 'å£900': 9404,\n",
       " 'prize': 6533,\n",
       " 'reward': 6941,\n",
       " 'claim': 2180,\n",
       " 'call': 1902,\n",
       " '09061701461': 217,\n",
       " 'code': 2241,\n",
       " 'kl341': 4755,\n",
       " 'valid': 8687,\n",
       " '12': 322,\n",
       " 'hours': 4190,\n",
       " 'mobile': 5466,\n",
       " '11': 312,\n",
       " 'months': 5511,\n",
       " 'r': 6674,\n",
       " 'entitled': 3116,\n",
       " 'update': 8614,\n",
       " 'latest': 4855,\n",
       " 'colour': 2264,\n",
       " 'mobiles': 5467,\n",
       " 'camera': 1938,\n",
       " 'co': 2230,\n",
       " '08002986030': 56,\n",
       " 'im': 4319,\n",
       " 'gonna': 3775,\n",
       " 'home': 4138,\n",
       " 'soon': 7583,\n",
       " 'want': 8842,\n",
       " 'talk': 8039,\n",
       " 'stuff': 7859,\n",
       " 'anymore': 1193,\n",
       " 'tonight': 8361,\n",
       " 'k': 4646,\n",
       " 'ive': 4514,\n",
       " 'cried': 2476,\n",
       " 'enough': 3107,\n",
       " 'today': 8321,\n",
       " 'six': 7435,\n",
       " 'chances': 2056,\n",
       " 'cash': 1999,\n",
       " '100': 292,\n",
       " '20000': 418,\n",
       " 'pounds': 6437,\n",
       " 'csh11': 2493,\n",
       " '87575': 840,\n",
       " 'cost': 2408,\n",
       " '150pday': 350,\n",
       " '6days': 723,\n",
       " '16': 374,\n",
       " 'tsandcs': 8472,\n",
       " 'reply': 6874,\n",
       " 'hl': 4104,\n",
       " '4': 578,\n",
       " 'info': 4382,\n",
       " 'urgent': 8636,\n",
       " '1': 290,\n",
       " 'week': 8911,\n",
       " 'membership': 5332,\n",
       " 'å£100000': 9357,\n",
       " 'jackpot': 4532,\n",
       " '81010': 786,\n",
       " 'tc': 8075,\n",
       " 'wwwdbuknet': 9169,\n",
       " 'lccltd': 4872,\n",
       " 'pobox': 6350,\n",
       " '4403ldnw1a7rw18': 599,\n",
       " 'searching': 7170,\n",
       " 'right': 6953,\n",
       " 'words': 9089,\n",
       " 'thank': 8161,\n",
       " 'breather': 1773,\n",
       " 'promise': 6572,\n",
       " 'wont': 9077,\n",
       " 'take': 8030,\n",
       " 'help': 4035,\n",
       " 'granted': 3830,\n",
       " 'fulfil': 3602,\n",
       " 'wonderful': 9074,\n",
       " 'blessing': 1644,\n",
       " 'times': 8280,\n",
       " 'date': 2587,\n",
       " 'sunday': 7927,\n",
       " 'xxxmobilemovieclub': 9226,\n",
       " 'use': 8651,\n",
       " 'credit': 2466,\n",
       " 'click': 2202,\n",
       " 'wap': 8847,\n",
       " 'link': 4973,\n",
       " 'next': 5721,\n",
       " 'message': 5357,\n",
       " 'httpwap': 4219,\n",
       " 'xxxmobilemovieclubcomnqjkgighjjgcbl': 9227,\n",
       " 'oh': 5929,\n",
       " 'kim': 4722,\n",
       " 'watching': 8868,\n",
       " 'eh': 3041,\n",
       " 'remember': 6841,\n",
       " 'spell': 7648,\n",
       " 'name': 5633,\n",
       " 'yes': 9265,\n",
       " 'v': 8679,\n",
       " 'naughty': 5659,\n",
       " 'make': 5201,\n",
       " 'wet': 8953,\n",
       " 'fine': 3389,\n",
       " 'thatåõs': 8179,\n",
       " 'way': 8879,\n",
       " 'feel': 3334,\n",
       " 'gota': 3802,\n",
       " 'b': 1404,\n",
       " 'england': 3098,\n",
       " 'macedonia': 5163,\n",
       " 'miss': 5427,\n",
       " 'goalsteam': 3750,\n",
       " 'news': 5716,\n",
       " 'ur': 8633,\n",
       " 'national': 5652,\n",
       " 'team': 8089,\n",
       " '87077': 835,\n",
       " 'eg': 3032,\n",
       " 'trywales': 8470,\n",
       " 'scotland': 7149,\n",
       " '4txtì¼120': 643,\n",
       " 'poboxox36504w45wq': 6362,\n",
       " 'seriously': 7239,\n",
       " 'i‰û÷m': 4525,\n",
       " 'going': 3763,\n",
       " 'try': 8467,\n",
       " 'ha': 3912,\n",
       " 'ì': 9412,\n",
       " 'pay': 6177,\n",
       " 'first': 3409,\n",
       " 'da': 2543,\n",
       " 'stock': 7790,\n",
       " 'comin': 2280,\n",
       " 'aft': 1022,\n",
       " 'finish': 3395,\n",
       " 'lunch': 5129,\n",
       " 'str': 7817,\n",
       " 'lor': 5056,\n",
       " 'ard': 1253,\n",
       " 'smth': 7521,\n",
       " 'ffffffffff': 3351,\n",
       " 'alright': 1116,\n",
       " 'meet': 5311,\n",
       " 'sooner': 7585,\n",
       " 'forced': 3486,\n",
       " 'eat': 3004,\n",
       " 'slice': 7470,\n",
       " 'really': 6750,\n",
       " 'hungry': 4247,\n",
       " 'tho': 8232,\n",
       " 'sucks': 7897,\n",
       " 'mark': 5237,\n",
       " 'getting': 3703,\n",
       " 'worried': 9106,\n",
       " 'knows': 4766,\n",
       " 'sick': 7378,\n",
       " 'turn': 8493,\n",
       " 'pizza': 6300,\n",
       " 'lol': 5033,\n",
       " 'always': 1126,\n",
       " 'convincing': 2381,\n",
       " 'catch': 2011,\n",
       " 'bus': 1856,\n",
       " 'frying': 3590,\n",
       " 'egg': 3036,\n",
       " 'tea': 8083,\n",
       " 'eating': 3007,\n",
       " 'moms': 5490,\n",
       " 'left': 4894,\n",
       " 'dinner': 2786,\n",
       " 'love': 5081,\n",
       " 'amp': 1142,\n",
       " 'packing': 6090,\n",
       " 'car': 1966,\n",
       " 'ill': 4316,\n",
       " 'let': 4917,\n",
       " 'know': 4762,\n",
       " 'theres': 8202,\n",
       " 'room': 6998,\n",
       " 'ahhh': 1051,\n",
       " 'work': 9092,\n",
       " 'vaguely': 8682,\n",
       " 'wait': 8812,\n",
       " 'thats': 8178,\n",
       " 'clear': 2196,\n",
       " 'sure': 7955,\n",
       " 'sarcastic': 7100,\n",
       " 'x': 9206,\n",
       " 'doesnt': 2850,\n",
       " 'live': 4996,\n",
       " 'us': 8647,\n",
       " 'yeah': 9252,\n",
       " 'apologetic': 1214,\n",
       " 'fallen': 3284,\n",
       " 'actin': 961,\n",
       " 'spoilt': 7676,\n",
       " 'child': 2135,\n",
       " 'caught': 2015,\n",
       " 'till': 8275,\n",
       " 'badly': 1430,\n",
       " 'cheers': 2101,\n",
       " 'tell': 8108,\n",
       " 'anything': 1199,\n",
       " 'fear': 3326,\n",
       " 'fainting': 3274,\n",
       " 'housework': 4195,\n",
       " 'quick': 6661,\n",
       " 'cuppa': 2516,\n",
       " 'thanks': 8162,\n",
       " 'subscription': 7886,\n",
       " 'ringtone': 6962,\n",
       " 'uk': 8542,\n",
       " 'charged': 2068,\n",
       " 'å£5month': 9396,\n",
       " 'please': 6329,\n",
       " 'confirm': 2336,\n",
       " 'replying': 6876,\n",
       " 'yup': 9336,\n",
       " 'look': 5044,\n",
       " 'timings': 8287,\n",
       " 'msg': 5553,\n",
       " 'xuhui': 9221,\n",
       " 'learn': 4883,\n",
       " '2nd': 493,\n",
       " 'lesson': 4915,\n",
       " '8am': 863,\n",
       " 'oops': 5986,\n",
       " 'roommates': 7001,\n",
       " 'done': 2875,\n",
       " 'see': 7187,\n",
       " 'letter': 4919,\n",
       " 'decide': 2641,\n",
       " 'hello': 4028,\n",
       " 'hows': 4202,\n",
       " 'saturday': 7114,\n",
       " 'texting': 8151,\n",
       " 'youd': 9299,\n",
       " 'decided': 2642,\n",
       " 'tomo': 8346,\n",
       " 'trying': 8469,\n",
       " 'invite': 4446,\n",
       " 'pls': 6337,\n",
       " 'ahead': 1049,\n",
       " 'watts': 8877,\n",
       " 'wanted': 8844,\n",
       " 'weekend': 8913,\n",
       " 'abiola': 913,\n",
       " 'forget': 3492,\n",
       " 'need': 5678,\n",
       " 'crave': 2456,\n",
       " 'sweet': 7986,\n",
       " 'arabian': 1250,\n",
       " 'steed': 7768,\n",
       " 'mmmmmm': 5456,\n",
       " 'yummy': 9331,\n",
       " '07732584351': 29,\n",
       " 'rodger': 6987,\n",
       " 'burns': 1853,\n",
       " 'tried': 8446,\n",
       " 'sms': 7515,\n",
       " 'nokia': 5785,\n",
       " 'camcorder': 1936,\n",
       " '08000930705': 52,\n",
       " 'delivery': 2680,\n",
       " 'tomorrow': 8349,\n",
       " 'seeing': 7189,\n",
       " 'hope': 4162,\n",
       " 'man': 5211,\n",
       " 'well': 8930,\n",
       " 'endowed': 3088,\n",
       " 'ltgt': 5114,\n",
       " 'inches': 4350,\n",
       " 'callsmessagesmissed': 1929,\n",
       " 'calls': 1927,\n",
       " 'didnt': 2754,\n",
       " 'get': 3695,\n",
       " 'hep': 4049,\n",
       " 'immunisation': 4331,\n",
       " 'nigeria': 5734,\n",
       " 'fair': 3275,\n",
       " 'hopefully': 4166,\n",
       " 'tyler': 8521,\n",
       " 'cant': 1955,\n",
       " 'could': 2420,\n",
       " 'maybe': 5285,\n",
       " 'ask': 1305,\n",
       " 'bit': 1619,\n",
       " 'stubborn': 7848,\n",
       " 'hospital': 4178,\n",
       " 'kept': 4693,\n",
       " 'telling': 8109,\n",
       " 'weak': 8885,\n",
       " 'sucker': 7895,\n",
       " 'hospitals': 4179,\n",
       " 'suckers': 7896,\n",
       " 'thinked': 8218,\n",
       " 'time': 8277,\n",
       " 'saw': 7122,\n",
       " 'class': 2188,\n",
       " 'gram': 3822,\n",
       " 'usually': 8668,\n",
       " 'runs': 7044,\n",
       " 'half': 3929,\n",
       " 'eighth': 3044,\n",
       " 'smarter': 7493,\n",
       " 'gets': 3699,\n",
       " 'almost': 1110,\n",
       " 'whole': 8985,\n",
       " 'second': 7174,\n",
       " 'fyi': 3621,\n",
       " 'ride': 6952,\n",
       " 'morning': 5520,\n",
       " 'hes': 4062,\n",
       " 'crashing': 2455,\n",
       " 'place': 6302,\n",
       " 'wow': 9125,\n",
       " 'never': 5707,\n",
       " 'realized': 6748,\n",
       " 'embarassed': 3069,\n",
       " 'accomodations': 941,\n",
       " 'thought': 8237,\n",
       " 'liked': 4951,\n",
       " 'since': 7405,\n",
       " 'best': 1573,\n",
       " 'seemed': 7193,\n",
       " 'happy': 3963,\n",
       " 'cave': 2019,\n",
       " 'sorry': 7595,\n",
       " 'give': 3725,\n",
       " 'offered': 5909,\n",
       " 'embarassing': 3070,\n",
       " 'ac': 927,\n",
       " 'sptv': 7699,\n",
       " 'new': 5711,\n",
       " 'jersey': 4575,\n",
       " 'devils': 2733,\n",
       " 'detroit': 2727,\n",
       " 'red': 6793,\n",
       " 'wings': 9019,\n",
       " 'play': 6318,\n",
       " 'ice': 4285,\n",
       " 'hockey': 4122,\n",
       " 'correct': 2400,\n",
       " 'incorrect': 4361,\n",
       " 'end': 3084,\n",
       " 'mallika': 5210,\n",
       " 'sherawat': 7300,\n",
       " 'yesterday': 9280,\n",
       " 'find': 3386,\n",
       " 'lturlgt': 5117,\n",
       " 'congrats': 2343,\n",
       " 'year': 9254,\n",
       " 'special': 7635,\n",
       " 'cinema': 2175,\n",
       " 'pass': 6154,\n",
       " '09061209465': 212,\n",
       " 'suprman': 7953,\n",
       " 'matrix3': 5270,\n",
       " 'starwars3': 7748,\n",
       " 'etc': 3152,\n",
       " 'bx420ip45we': 1878,\n",
       " '150pm': 351,\n",
       " 'later': 4853,\n",
       " 'meeting': 5314,\n",
       " 'reached': 6731,\n",
       " 'yesgauti': 9273,\n",
       " 'sehwag': 7200,\n",
       " 'odi': 5903,\n",
       " 'series': 7237,\n",
       " 'pick': 6270,\n",
       " 'burger': 1848,\n",
       " 'move': 5538,\n",
       " 'pain': 6097,\n",
       " 'killing': 4719,\n",
       " 'good': 3777,\n",
       " 'joke': 4603,\n",
       " 'girls': 3722,\n",
       " 'situation': 7431,\n",
       " 'seekers': 7190,\n",
       " 'part': 6141,\n",
       " 'checking': 2095,\n",
       " 'iq': 4461,\n",
       " 'took': 8367,\n",
       " 'forever': 3489,\n",
       " 'come': 2272,\n",
       " 'double': 2893,\n",
       " 'check': 2091,\n",
       " 'hair': 3924,\n",
       " 'dresser': 2927,\n",
       " 'said': 7069,\n",
       " 'wun': 9155,\n",
       " 'cut': 2531,\n",
       " 'short': 7340,\n",
       " 'nice': 5727,\n",
       " 'pleased': 6330,\n",
       " 'advise': 1005,\n",
       " 'following': 3468,\n",
       " 'recent': 6773,\n",
       " 'review': 6939,\n",
       " 'mob': 5464,\n",
       " 'awarded': 1392,\n",
       " 'å£1500': 9364,\n",
       " 'bonus': 1688,\n",
       " '09066364589': 261,\n",
       " 'song': 7577,\n",
       " 'dedicated': 2652,\n",
       " 'day': 2599,\n",
       " 'dedicate': 2651,\n",
       " 'valuable': 8689,\n",
       " 'frnds': 3576,\n",
       " 'rply': 7017,\n",
       " 'complimentary': 2309,\n",
       " 'trip': 8447,\n",
       " 'eurodisinc': 3159,\n",
       " 'trav': 8429,\n",
       " 'acoentry41': 956,\n",
       " 'å£1000': 9355,\n",
       " 'dis': 2799,\n",
       " '186å£150morefrmmob': 383,\n",
       " 'shracomorsglsuplt10': 7364,\n",
       " 'ls1': 5103,\n",
       " '3aj': 551,\n",
       " 'hear': 4004,\n",
       " 'divorce': 2828,\n",
       " 'barbie': 1460,\n",
       " 'comes': 2276,\n",
       " 'kens': 4691,\n",
       " 'plane': 6309,\n",
       " 'month': 5507,\n",
       " 'wah': 8805,\n",
       " 'lucky': 5122,\n",
       " 'save': 7118,\n",
       " 'money': 5495,\n",
       " 'hee': 4020,\n",
       " 'finished': 3397,\n",
       " 'hi': 4073,\n",
       " 'babe': 1413,\n",
       " 'wanna': 8840,\n",
       " 'something': 7563,\n",
       " 'xx': 9222,\n",
       " 'kkwhere': 4752,\n",
       " 'youhow': 9302,\n",
       " 'performed': 6214,\n",
       " 'waiting': 8816,\n",
       " 'machan': 5165,\n",
       " 'cool': 2387,\n",
       " 'gentleman': 3686,\n",
       " 'dignity': 2776,\n",
       " 'respect': 6903,\n",
       " 'peoples': 6206,\n",
       " 'much': 5573,\n",
       " 'shy': 7373,\n",
       " 'pa': 6085,\n",
       " 'operate': 5993,\n",
       " 'looking': 5048,\n",
       " 'job': 4590,\n",
       " 'tas': 8057,\n",
       " 'earn': 2992,\n",
       " 'ah': 1047,\n",
       " 'stop': 7800,\n",
       " 'urgnt': 8640,\n",
       " 'real': 6741,\n",
       " 'yo': 9290,\n",
       " 'tickets': 8266,\n",
       " 'one': 5964,\n",
       " 'jacket': 4531,\n",
       " 'used': 8652,\n",
       " 'multis': 5584,\n",
       " 'started': 7741,\n",
       " 'requests': 6883,\n",
       " 'came': 1937,\n",
       " 'bed': 1529,\n",
       " 'coins': 2248,\n",
       " 'factory': 3265,\n",
       " 'gotta': 3806,\n",
       " 'nitros': 5757,\n",
       " 'ela': 3049,\n",
       " 'kanoil': 4668,\n",
       " 'download': 2901,\n",
       " 'wen': 8936,\n",
       " 'don‰û÷t': 2883,\n",
       " 'stand': 7729,\n",
       " 'close': 2209,\n",
       " 'you‰û÷ll': 9323,\n",
       " 'another': 1177,\n",
       " 'night': 5736,\n",
       " 'spent': 7653,\n",
       " 'late': 4848,\n",
       " 'afternoon': 1024,\n",
       " 'casualty': 2009,\n",
       " 'means': 5297,\n",
       " 'havent': 3985,\n",
       " 'stuff42moro': 7860,\n",
       " 'includes': 4354,\n",
       " 'sheets': 7295,\n",
       " 'smile': 7502,\n",
       " 'pleasure': 6332,\n",
       " 'trouble': 8453,\n",
       " 'pours': 6439,\n",
       " 'rain': 6686,\n",
       " 'sum1': 7918,\n",
       " 'hurts': 4261,\n",
       " 'becoz': 1527,\n",
       " 'someone': 7556,\n",
       " 'loves': 5091,\n",
       " 'smiling': 7506,\n",
       " 'service': 7242,\n",
       " 'representative': 6880,\n",
       " '0800': 48,\n",
       " '169': 376,\n",
       " '6031': 691,\n",
       " '10am9pm': 306,\n",
       " 'guaranteed': 3879,\n",
       " 'å£5000': 9391,\n",
       " 'planning': 6314,\n",
       " 'buy': 1868,\n",
       " 'lido': 4932,\n",
       " '530': 663,\n",
       " 'show': 7355,\n",
       " 'collected': 2257,\n",
       " 'simply': 7402,\n",
       " 'password': 6162,\n",
       " 'mix': 5447,\n",
       " '85069': 821,\n",
       " 'verify': 8716,\n",
       " 'usher': 8659,\n",
       " 'britney': 1793,\n",
       " 'fml': 3458,\n",
       " 'telugu': 8114,\n",
       " 'moviewat': 5543,\n",
       " 'abt': 922,\n",
       " 'loads': 5010,\n",
       " 'loans': 5012,\n",
       " 'wk': 9048,\n",
       " 'hols': 4136,\n",
       " 'run': 7041,\n",
       " 'forgot': 3497,\n",
       " 'hairdressers': 3926,\n",
       " 'appointment': 1230,\n",
       " 'four': 3516,\n",
       " 'shower': 7357,\n",
       " 'beforehand': 1542,\n",
       " 'cause': 2016,\n",
       " 'prob': 6539,\n",
       " 'ham': 3935,\n",
       " 'nothing': 5819,\n",
       " 'else': 3063,\n",
       " 'okay': 5937,\n",
       " 'price': 6512,\n",
       " 'long': 5040,\n",
       " 'legal': 4897,\n",
       " 'ave': 1379,\n",
       " 'ams': 1146,\n",
       " 'gone': 3772,\n",
       " '4the': 640,\n",
       " 'driving': 2936,\n",
       " 'test': 8137,\n",
       " 'yet': 9281,\n",
       " 'youre': 9312,\n",
       " 'mean': 5293,\n",
       " 'guess': 3887,\n",
       " 'gave': 3656,\n",
       " 'boston': 1710,\n",
       " 'men': 5337,\n",
       " 'changed': 2058,\n",
       " 'search': 7169,\n",
       " 'location': 5015,\n",
       " 'nyc': 5875,\n",
       " 'cuz': 2538,\n",
       " 'signin': 7390,\n",
       " 'page': 6093,\n",
       " 'says': 7127,\n",
       " 'umma': 8551,\n",
       " 'life': 4935,\n",
       " 'vava': 8703,\n",
       " 'lot': 5066,\n",
       " 'dear': 2623,\n",
       " 'wishes': 9033,\n",
       " 'birthday': 1617,\n",
       " 'making': 5205,\n",
       " 'truly': 8461,\n",
       " 'memorable': 5334,\n",
       " 'aight': 1062,\n",
       " 'hit': 4095,\n",
       " 'would': 9121,\n",
       " 'ip': 4454,\n",
       " 'address': 980,\n",
       " 'considering': 2354,\n",
       " 'computer': 2316,\n",
       " 'isnt': 4480,\n",
       " 'minecraft': 5404,\n",
       " 'server': 7241,\n",
       " 'grumpy': 3872,\n",
       " 'old': 5954,\n",
       " 'people': 6205,\n",
       " 'mom': 5487,\n",
       " 'better': 1581,\n",
       " 'lying': 5145,\n",
       " 'jokes': 4605,\n",
       " 'worry': 9109,\n",
       " 'busy': 1862,\n",
       " 'plural': 6342,\n",
       " 'noun': 5828,\n",
       " 'research': 6889,\n",
       " 'dinnermsg': 2787,\n",
       " 'cos': 2406,\n",
       " 'things': 8216,\n",
       " 'scared': 7134,\n",
       " 'mah': 5189,\n",
       " 'loud': 5076,\n",
       " 'gent': 3684,\n",
       " 'contact': 2359,\n",
       " 'last': 4845,\n",
       " 'weekends': 8914,\n",
       " 'draw': 2915,\n",
       " 'shows': 7363,\n",
       " '09064012160': 236,\n",
       " 'k52': 4647,\n",
       " '12hrs': 333,\n",
       " '150ppm': 361,\n",
       " 'wa': 8800,\n",
       " 'openin': 5990,\n",
       " 'sentence': 7230,\n",
       " 'formal': 3500,\n",
       " 'anyway': 1203,\n",
       " 'juz': 4645,\n",
       " 'tt': 8479,\n",
       " 'eatin': 3006,\n",
       " 'puttin': 6637,\n",
       " 'weighthaha': 8921,\n",
       " 'anythin': 1198,\n",
       " 'happened': 3955,\n",
       " 'entered': 3109,\n",
       " 'cabin': 1888,\n",
       " 'bday': 1512,\n",
       " 'boss': 1709,\n",
       " 'felt': 3343,\n",
       " 'askd': 1306,\n",
       " 'invited': 4447,\n",
       " 'apartment': 1208,\n",
       " 'went': 8939,\n",
       " 'specially': 7639,\n",
       " 'holiday': 4132,\n",
       " 'flights': 3435,\n",
       " 'inc': 4348,\n",
       " 'operator': 5994,\n",
       " '0871277810910pmin': 121,\n",
       " '18': 379,\n",
       " 'goodo': 3791,\n",
       " 'must': 5604,\n",
       " 'friday': 3560,\n",
       " 'eggpotato': 3037,\n",
       " 'ratio': 6715,\n",
       " 'tortilla': 8386,\n",
       " 'needed': 5680,\n",
       " 'hmmmy': 4117,\n",
       " 'uncle': 8558,\n",
       " 'informed': 4386,\n",
       " 'paying': 6182,\n",
       " 'school': 7140,\n",
       " 'directly': 2793,\n",
       " 'food': 3475,\n",
       " 'private': 6530,\n",
       " '2004': 420,\n",
       " 'account': 945,\n",
       " 'statement': 7751,\n",
       " '07742676969': 31,\n",
       " '786': 753,\n",
       " 'unredeemed': 8600,\n",
       " 'points': 6372,\n",
       " '08719180248': 169,\n",
       " 'identifier': 4297,\n",
       " '45239': 611,\n",
       " 'expires': 3235,\n",
       " 'å£2000': 9376,\n",
       " 'caller': 1919,\n",
       " '5903': 668,\n",
       " 'landline': 4825,\n",
       " '09064019788': 242,\n",
       " 'box42wr29c': 1736,\n",
       " 'applespairsall': 1224,\n",
       " 'malarky': 5207,\n",
       " 'todays': 8327,\n",
       " 'voda': 8769,\n",
       " 'numbers': 5861,\n",
       " 'ending': 3086,\n",
       " '7548': 748,\n",
       " '350': 541,\n",
       " 'award': 1391,\n",
       " 'match': 5258,\n",
       " '08712300220': 103,\n",
       " 'quoting': 6673,\n",
       " '4041': 583,\n",
       " 'standard': 7730,\n",
       " 'rates': 6712,\n",
       " 'app': 1218,\n",
       " 'sao': 7094,\n",
       " 'mu': 5572,\n",
       " 'ìï': 9415,\n",
       " 'predict': 6474,\n",
       " 'ìll': 9413,\n",
       " 'buying': 1871,\n",
       " 'knowyetunde': 4769,\n",
       " 'hasnt': 3975,\n",
       " 'sent': 7228,\n",
       " 'bother': 1712,\n",
       " 'sending': 7220,\n",
       " 'involve': 4451,\n",
       " 'shouldnt': 7349,\n",
       " 'imposed': 4337,\n",
       " 'apologise': 1215,\n",
       " 'girl': 3718,\n",
       " 'del': 2670,\n",
       " 'bak': 1438,\n",
       " 'sum': 7917,\n",
       " 'lucyxx': 5126,\n",
       " 'kkhow': 4746,\n",
       " 'tmorrowpls': 8309,\n",
       " 'accomodate': 940,\n",
       " 'answer': 1180,\n",
       " 'question': 6657,\n",
       " 'sunshine': 7934,\n",
       " 'quiz': 6668,\n",
       " 'q': 6643,\n",
       " 'top': 8376,\n",
       " 'sony': 7580,\n",
       " 'dvd': 2979,\n",
       " 'player': 6320,\n",
       " 'country': 2427,\n",
       " 'algarve': 1091,\n",
       " 'ansr': 1179,\n",
       " '82277': 792,\n",
       " 'sptyrone': 7700,\n",
       " 'laid': 4816,\n",
       " 'dogging': 2857,\n",
       " 'locations': 5016,\n",
       " 'direct': 2792,\n",
       " 'join': 4598,\n",
       " 'uks': 8545,\n",
       " 'largest': 4842,\n",
       " 'bt': 1820,\n",
       " 'txting': 8516,\n",
       " 'gravel': 3835,\n",
       " '69888': 717,\n",
       " 'nt': 5849,\n",
       " 'ec2a': 3009,\n",
       " '31pmsg150p': 534,\n",
       " 'haf': 3918,\n",
       " 'msn': 5565,\n",
       " 'yijuehotmailcom': 9287,\n",
       " 'rooms': 7002,\n",
       " 'befor': 1541,\n",
       " 'activities': 967,\n",
       " 'youll': 9306,\n",
       " 'msgs': 5557,\n",
       " 'chat': 2080,\n",
       " 'svc': 7971,\n",
       " 'hardcore': 3965,\n",
       " 'services': 7243,\n",
       " '69988': 721,\n",
       " 'age': 1032,\n",
       " 'yr': 9327,\n",
       " 'lazy': 4871,\n",
       " 'type': 8523,\n",
       " 'lect': 4891,\n",
       " 'pouch': 6434,\n",
       " 'sir': 7417,\n",
       " 'mail': 5192,\n",
       " 'swt': 8000,\n",
       " 'nver': 5870,\n",
       " 'tired': 8290,\n",
       " 'little': 4995,\n",
       " 'lovable': 5080,\n",
       " 'persons': 6232,\n",
       " 'cozsomtimes': 2441,\n",
       " 'occupy': 5896,\n",
       " 'biggest': 1598,\n",
       " 'hearts': 4012,\n",
       " 'gud': 3881,\n",
       " 'ni8': 5724,\n",
       " 'open': 5987,\n",
       " 'ya': 9236,\n",
       " 'dot': 2892,\n",
       " 'whats': 8962,\n",
       " 'staff': 7720,\n",
       " 'taking': 8036,\n",
       " 'replied': 6872,\n",
       " 'randy': 6705,\n",
       " 'sexy': 7259,\n",
       " 'female': 3344,\n",
       " 'local': 5014,\n",
       " 'luv': 5135,\n",
       " 'netcollex': 5699,\n",
       " 'ltd': 5109,\n",
       " '08700621170150p': 73,\n",
       " 'ummmawill': 8552,\n",
       " 'inour': 4403,\n",
       " 'begin': 1547,\n",
       " 'qatar': 6644,\n",
       " 'pray': 6467,\n",
       " 'hard': 3964,\n",
       " 'ki': 4707,\n",
       " 'deleted': 2674,\n",
       " 'sindu': 7407,\n",
       " 'birla': 1613,\n",
       " 'soft': 7543,\n",
       " 'wine': 9017,\n",
       " 'flowing': 3449,\n",
       " 'nevering': 5708,\n",
       " 'thk': 8226,\n",
       " 'plaza': 6327,\n",
       " 'typical': 8526,\n",
       " 'everywhere': 3185,\n",
       " 'dirt': 2796,\n",
       " 'floor': 3443,\n",
       " 'windows': 9014,\n",
       " 'shirt': 7314,\n",
       " 'sometimes': 7567,\n",
       " 'mouth': 5537,\n",
       " 'dream': 2919,\n",
       " 'without': 9042,\n",
       " 'chores': 2161,\n",
       " 'joy': 4620,\n",
       " 'lots': 5069,\n",
       " 'tv': 8498,\n",
       " 'exist': 3219,\n",
       " 'hail': 3923,\n",
       " 'mist': 5438,\n",
       " 'become': 1525,\n",
       " 'aaooooright': 902,\n",
       " 'leaving': 4890,\n",
       " 'house': 4191,\n",
       " 'interview': 4433,\n",
       " 'boy': 1741,\n",
       " 'meare': 5300,\n",
       " 'missing': 5431,\n",
       " 'annoncement': 1170,\n",
       " 'years': 9255,\n",
       " '07046744435': 22,\n",
       " 'arrange': 1281,\n",
       " '0871277810810': 120,\n",
       " 'keep': 4685,\n",
       " 'safe': 7064,\n",
       " 'envy': 3123,\n",
       " 'everyone': 3179,\n",
       " 'sees': 7197,\n",
       " 'parentsi': 6133,\n",
       " 'hand': 3938,\n",
       " 'excited': 3207,\n",
       " 'spend': 7651,\n",
       " 'bootydelious': 1701,\n",
       " '32f': 539,\n",
       " 'inviting': 4448,\n",
       " 'friend': 3565,\n",
       " 'yes434': 9267,\n",
       " 'no434': 5764,\n",
       " 'wwwsmsacubootydelious': 9189,\n",
       " 'frnd': 3575,\n",
       " '62468': 699,\n",
       " 'bangbabes': 1452,\n",
       " 'order': 6018,\n",
       " 'content': 2363,\n",
       " 'goto': 3805,\n",
       " 'bangb': 1451,\n",
       " 'internetservice': 4432,\n",
       " 'menu': 5345,\n",
       " 'cultures': 2510,\n",
       " 'module': 5480,\n",
       " '09061701939': 219,\n",
       " 's89': 7054,\n",
       " 'avoid': 1385,\n",
       " 'missunderstding': 5436,\n",
       " 'wit': 9038,\n",
       " 'beloved': 1563,\n",
       " 'ones': 5966,\n",
       " 'escape': 3142,\n",
       " 'fancy': 3296,\n",
       " 'bridge': 1778,\n",
       " 'needs': 5684,\n",
       " 'lager': 4815,\n",
       " 'completely': 2305,\n",
       " 'formclark': 3504,\n",
       " 'also': 1120,\n",
       " 'utter': 8670,\n",
       " 'waste': 8860,\n",
       " 'axis': 1399,\n",
       " 'bank': 1454,\n",
       " 'hmmm': 4111,\n",
       " 'hop': 4161,\n",
       " 'muz': 5610,\n",
       " 'discuss': 2812,\n",
       " 'liao': 4924,\n",
       " 'coming': 2281,\n",
       " 'bloody': 1659,\n",
       " 'hell': 4026,\n",
       " 'believe': 1554,\n",
       " 'surname': 7961,\n",
       " ...}"
      ]
     },
     "execution_count": 26,
     "metadata": {},
     "output_type": "execute_result"
    }
   ],
   "source": [
    "bow_transformer.vocabulary_  # count of each & every words"
   ]
  },
  {
   "cell_type": "code",
   "execution_count": 27,
   "id": "df3590bb",
   "metadata": {},
   "outputs": [
    {
     "data": {
      "text/plain": [
       "9422"
      ]
     },
     "execution_count": 27,
     "metadata": {},
     "output_type": "execute_result"
    }
   ],
   "source": [
    "len(bow_transformer.vocabulary_)  # 9422"
   ]
  },
  {
   "cell_type": "markdown",
   "id": "0f63b171",
   "metadata": {},
   "source": [
    "# Term Document Frequency(TDM)"
   ]
  },
  {
   "cell_type": "code",
   "execution_count": 28,
   "id": "0380555a",
   "metadata": {},
   "outputs": [],
   "source": [
    "messages_bow = bow_transformer.transform(messages.message)\n",
    " \n",
    "    # i have created TDM "
   ]
  },
  {
   "cell_type": "code",
   "execution_count": 29,
   "id": "99c64cd8",
   "metadata": {},
   "outputs": [
    {
     "data": {
      "text/plain": [
       "(6776, 9422)"
      ]
     },
     "execution_count": 29,
     "metadata": {},
     "output_type": "execute_result"
    }
   ],
   "source": [
    "messages_bow.shape"
   ]
  },
  {
   "cell_type": "code",
   "execution_count": 30,
   "id": "560ca818",
   "metadata": {},
   "outputs": [
    {
     "data": {
      "text/plain": [
       "scipy.sparse.csr.csr_matrix"
      ]
     },
     "execution_count": 30,
     "metadata": {},
     "output_type": "execute_result"
    }
   ],
   "source": [
    "type(messages_bow)"
   ]
  },
  {
   "cell_type": "markdown",
   "id": "b93bdf73",
   "metadata": {},
   "source": [
    "# Train-test split"
   ]
  },
  {
   "cell_type": "code",
   "execution_count": 31,
   "id": "c5b4fb12",
   "metadata": {},
   "outputs": [],
   "source": [
    "# now we divide our dataset into train & test & then do model building on train data & check model performance on test data "
   ]
  },
  {
   "cell_type": "code",
   "execution_count": 32,
   "id": "4bd8f0ae",
   "metadata": {},
   "outputs": [],
   "source": [
    "from sklearn.model_selection import train_test_split"
   ]
  },
  {
   "cell_type": "code",
   "execution_count": 33,
   "id": "036719b6",
   "metadata": {},
   "outputs": [],
   "source": [
    "x_train , x_test , y_train , y_test = train_test_split(messages_bow , messages.label , test_size=.2)"
   ]
  },
  {
   "cell_type": "code",
   "execution_count": null,
   "id": "1ac4f05b",
   "metadata": {},
   "outputs": [],
   "source": []
  },
  {
   "cell_type": "markdown",
   "id": "1b0826a6",
   "metadata": {},
   "source": [
    "# Model building"
   ]
  },
  {
   "cell_type": "markdown",
   "id": "d22f9aa6",
   "metadata": {},
   "source": [
    "# 1) Logistic_Regression"
   ]
  },
  {
   "cell_type": "code",
   "execution_count": 34,
   "id": "fc6137e5",
   "metadata": {},
   "outputs": [],
   "source": [
    "from sklearn.linear_model import LogisticRegression\n",
    "from sklearn.metrics import confusion_matrix , classification_report\n",
    "logreg= LogisticRegression()"
   ]
  },
  {
   "cell_type": "code",
   "execution_count": 35,
   "id": "9f9b84cb",
   "metadata": {},
   "outputs": [
    {
     "data": {
      "text/plain": [
       "LogisticRegression()"
      ]
     },
     "execution_count": 35,
     "metadata": {},
     "output_type": "execute_result"
    }
   ],
   "source": [
    "logreg.fit(x_train , y_train ) "
   ]
  },
  {
   "cell_type": "code",
   "execution_count": 36,
   "id": "20e61cd7",
   "metadata": {},
   "outputs": [
    {
     "data": {
      "text/plain": [
       "array([0, 0, 0, ..., 0, 1, 0], dtype=int64)"
      ]
     },
     "execution_count": 36,
     "metadata": {},
     "output_type": "execute_result"
    }
   ],
   "source": [
    "pred_log = logreg.predict(x_test) \n",
    "pred_log"
   ]
  },
  {
   "cell_type": "code",
   "execution_count": 37,
   "id": "b8086507",
   "metadata": {},
   "outputs": [
    {
     "data": {
      "text/plain": [
       "array([[1171,   23],\n",
       "       [   6,  156]], dtype=int64)"
      ]
     },
     "execution_count": 37,
     "metadata": {},
     "output_type": "execute_result"
    }
   ],
   "source": [
    "tab_log = confusion_matrix( pred_log , y_test)\n",
    "tab_log"
   ]
  },
  {
   "cell_type": "code",
   "execution_count": 38,
   "id": "7a553701",
   "metadata": {},
   "outputs": [
    {
     "data": {
      "text/plain": [
       "array([[ 0.0676437 ,  0.03964794,  0.01357743, ...,  0.00181692,\n",
       "         0.09244477, -0.02899842]])"
      ]
     },
     "execution_count": 38,
     "metadata": {},
     "output_type": "execute_result"
    }
   ],
   "source": [
    "logreg.coef_ "
   ]
  },
  {
   "cell_type": "code",
   "execution_count": 39,
   "id": "eb8b9a53",
   "metadata": {},
   "outputs": [
    {
     "data": {
      "text/plain": [
       "array([-4.20801507])"
      ]
     },
     "execution_count": 39,
     "metadata": {},
     "output_type": "execute_result"
    }
   ],
   "source": [
    "logreg.intercept_ "
   ]
  },
  {
   "cell_type": "code",
   "execution_count": 40,
   "id": "d91b3f87",
   "metadata": {},
   "outputs": [
    {
     "name": "stdout",
     "output_type": "stream",
     "text": [
      "              precision    recall  f1-score   support\n",
      "\n",
      "           0       0.98      0.99      0.99      1177\n",
      "           1       0.96      0.87      0.91       179\n",
      "\n",
      "    accuracy                           0.98      1356\n",
      "   macro avg       0.97      0.93      0.95      1356\n",
      "weighted avg       0.98      0.98      0.98      1356\n",
      "\n"
     ]
    }
   ],
   "source": [
    "print(classification_report(y_test , pred_log))"
   ]
  },
  {
   "cell_type": "code",
   "execution_count": null,
   "id": "538f3552",
   "metadata": {},
   "outputs": [],
   "source": []
  },
  {
   "cell_type": "code",
   "execution_count": 41,
   "id": "84d1a46b",
   "metadata": {},
   "outputs": [],
   "source": [
    "pred_prob_train = logreg.predict_proba(x_train)\n",
    "pred_prob_test  = logreg.predict_proba(x_test)"
   ]
  },
  {
   "cell_type": "code",
   "execution_count": 42,
   "id": "8cbac765",
   "metadata": {},
   "outputs": [
    {
     "data": {
      "text/html": [
       "<div>\n",
       "<style scoped>\n",
       "    .dataframe tbody tr th:only-of-type {\n",
       "        vertical-align: middle;\n",
       "    }\n",
       "\n",
       "    .dataframe tbody tr th {\n",
       "        vertical-align: top;\n",
       "    }\n",
       "\n",
       "    .dataframe thead th {\n",
       "        text-align: right;\n",
       "    }\n",
       "</style>\n",
       "<table border=\"1\" class=\"dataframe\">\n",
       "  <thead>\n",
       "    <tr style=\"text-align: right;\">\n",
       "      <th></th>\n",
       "      <th>Pred_Prob0</th>\n",
       "      <th>Pred_prob1</th>\n",
       "    </tr>\n",
       "  </thead>\n",
       "  <tbody>\n",
       "    <tr>\n",
       "      <th>0</th>\n",
       "      <td>0.996361</td>\n",
       "      <td>0.003639</td>\n",
       "    </tr>\n",
       "    <tr>\n",
       "      <th>1</th>\n",
       "      <td>0.985546</td>\n",
       "      <td>0.014454</td>\n",
       "    </tr>\n",
       "    <tr>\n",
       "      <th>2</th>\n",
       "      <td>0.986542</td>\n",
       "      <td>0.013458</td>\n",
       "    </tr>\n",
       "    <tr>\n",
       "      <th>3</th>\n",
       "      <td>0.151214</td>\n",
       "      <td>0.848786</td>\n",
       "    </tr>\n",
       "    <tr>\n",
       "      <th>4</th>\n",
       "      <td>0.843254</td>\n",
       "      <td>0.156746</td>\n",
       "    </tr>\n",
       "    <tr>\n",
       "      <th>...</th>\n",
       "      <td>...</td>\n",
       "      <td>...</td>\n",
       "    </tr>\n",
       "    <tr>\n",
       "      <th>1351</th>\n",
       "      <td>0.997865</td>\n",
       "      <td>0.002135</td>\n",
       "    </tr>\n",
       "    <tr>\n",
       "      <th>1352</th>\n",
       "      <td>0.989259</td>\n",
       "      <td>0.010741</td>\n",
       "    </tr>\n",
       "    <tr>\n",
       "      <th>1353</th>\n",
       "      <td>0.999727</td>\n",
       "      <td>0.000273</td>\n",
       "    </tr>\n",
       "    <tr>\n",
       "      <th>1354</th>\n",
       "      <td>0.016066</td>\n",
       "      <td>0.983934</td>\n",
       "    </tr>\n",
       "    <tr>\n",
       "      <th>1355</th>\n",
       "      <td>0.994771</td>\n",
       "      <td>0.005229</td>\n",
       "    </tr>\n",
       "  </tbody>\n",
       "</table>\n",
       "<p>1356 rows × 2 columns</p>\n",
       "</div>"
      ],
      "text/plain": [
       "      Pred_Prob0  Pred_prob1\n",
       "0       0.996361    0.003639\n",
       "1       0.985546    0.014454\n",
       "2       0.986542    0.013458\n",
       "3       0.151214    0.848786\n",
       "4       0.843254    0.156746\n",
       "...          ...         ...\n",
       "1351    0.997865    0.002135\n",
       "1352    0.989259    0.010741\n",
       "1353    0.999727    0.000273\n",
       "1354    0.016066    0.983934\n",
       "1355    0.994771    0.005229\n",
       "\n",
       "[1356 rows x 2 columns]"
      ]
     },
     "execution_count": 42,
     "metadata": {},
     "output_type": "execute_result"
    }
   ],
   "source": [
    "pred_prob_test = pd.DataFrame(pred_prob_test)\n",
    "\n",
    "pred_prob_test.rename(columns ={pred_prob_test.columns[0]: \"Pred_Prob0\" , \n",
    "                                pred_prob_test.columns[1]: \"Pred_prob1\"} , inplace = True)\n",
    "pred_prob_test"
   ]
  },
  {
   "cell_type": "code",
   "execution_count": 43,
   "id": "def75f23",
   "metadata": {},
   "outputs": [],
   "source": [
    "from sklearn.metrics import  roc_curve , roc_auc_score"
   ]
  },
  {
   "cell_type": "code",
   "execution_count": 44,
   "id": "402bdee0",
   "metadata": {},
   "outputs": [],
   "source": [
    "fpr , tpr , thershold = roc_curve(y_test , pred_prob_test.iloc[: , 1] ) "
   ]
  },
  {
   "cell_type": "code",
   "execution_count": 45,
   "id": "7dc3f44c",
   "metadata": {},
   "outputs": [
    {
     "name": "stdout",
     "output_type": "stream",
     "text": [
      "AUROC CURVE =  0.933\n"
     ]
    }
   ],
   "source": [
    "area_auroc = roc_auc_score(y_test , pred_log)\n",
    "area_auroc_ = np.round(area_auroc , 3)\n",
    "print('AUROC CURVE = ' , area_auroc_ )"
   ]
  },
  {
   "cell_type": "code",
   "execution_count": 46,
   "id": "c78b4fb3",
   "metadata": {},
   "outputs": [
    {
     "data": {
      "image/png": "[encoded data removed]",
      "text/plain": [
       "<Figure size 432x288 with 1 Axes>"
      ]
     },
     "metadata": {
      "needs_background": "light"
     },
     "output_type": "display_data"
    }
   ],
   "source": [
    "plt.plot(fpr , tpr , color = \"r\")\n",
    "plt.xlabel(\"FPr\")\n",
    "plt.ylabel(\"TPr\")\n",
    "plt.title(\"AUROC on amazonreviews.tsv data\")\n",
    "plt.text(x = 0.5 , y = 0.5, s = area_auroc_ , size = 20)\n",
    "plt.grid()"
   ]
  },
  {
   "cell_type": "code",
   "execution_count": null,
   "id": "b44196e2",
   "metadata": {},
   "outputs": [],
   "source": []
  },
  {
   "cell_type": "markdown",
   "id": "c86146ac",
   "metadata": {},
   "source": [
    "# 2) Decision Tree"
   ]
  },
  {
   "cell_type": "markdown",
   "id": "ea4022f5",
   "metadata": {},
   "source": [
    "# Grid search"
   ]
  },
  {
   "cell_type": "code",
   "execution_count": 47,
   "id": "1db200e7",
   "metadata": {},
   "outputs": [],
   "source": [
    "from sklearn.model_selection import GridSearchCV"
   ]
  },
  {
   "cell_type": "code",
   "execution_count": 48,
   "id": "20f03cf6",
   "metadata": {},
   "outputs": [],
   "source": [
    "from sklearn.tree import DecisionTreeClassifier\n",
    "dtc = DecisionTreeClassifier()"
   ]
  },
  {
   "cell_type": "code",
   "execution_count": 49,
   "id": "48a05ffc",
   "metadata": {
    "scrolled": true
   },
   "outputs": [],
   "source": [
    "search_dict = {\"criterion\" : ('entropy' , 'gini'),\n",
    "              \"max_depth\" : ( 3,4,5,6,7,8,9 ,10, 12),\n",
    "              \"min_samples_split\": (25, 50 , 75, 100 ,150,200)}"
   ]
  },
  {
   "cell_type": "code",
   "execution_count": 50,
   "id": "234827a5",
   "metadata": {},
   "outputs": [],
   "source": [
    "grid_dt = GridSearchCV(dtc , param_grid= search_dict)"
   ]
  },
  {
   "cell_type": "code",
   "execution_count": 51,
   "id": "5729eead",
   "metadata": {},
   "outputs": [
    {
     "data": {
      "text/plain": [
       "GridSearchCV(estimator=DecisionTreeClassifier(),\n",
       "             param_grid={'criterion': ('entropy', 'gini'),\n",
       "                         'max_depth': (3, 4, 5, 6, 7, 8, 9, 10, 12),\n",
       "                         'min_samples_split': (25, 50, 75, 100, 150, 200)})"
      ]
     },
     "execution_count": 51,
     "metadata": {},
     "output_type": "execute_result"
    }
   ],
   "source": [
    "grid_dt.fit(x_train, y_train)"
   ]
  },
  {
   "cell_type": "code",
   "execution_count": 52,
   "id": "de2bac27",
   "metadata": {},
   "outputs": [
    {
     "data": {
      "text/plain": [
       "{'criterion': 'entropy', 'max_depth': 12, 'min_samples_split': 25}"
      ]
     },
     "execution_count": 52,
     "metadata": {},
     "output_type": "execute_result"
    }
   ],
   "source": [
    "grid_dt.best_params_"
   ]
  },
  {
   "cell_type": "markdown",
   "id": "1222b795",
   "metadata": {},
   "source": [
    "# DT by using Grid search"
   ]
  },
  {
   "cell_type": "code",
   "execution_count": 53,
   "id": "34732757",
   "metadata": {},
   "outputs": [],
   "source": [
    "from sklearn.tree import DecisionTreeClassifier\n",
    "dtc = DecisionTreeClassifier(criterion=\"entropy\" , max_depth = 12 , min_samples_split=25 , class_weight=\"balanced\" )"
   ]
  },
  {
   "cell_type": "code",
   "execution_count": 54,
   "id": "c375e285",
   "metadata": {},
   "outputs": [
    {
     "data": {
      "text/plain": [
       "DecisionTreeClassifier(class_weight='balanced', criterion='entropy',\n",
       "                       max_depth=12, min_samples_split=25)"
      ]
     },
     "execution_count": 54,
     "metadata": {},
     "output_type": "execute_result"
    }
   ],
   "source": [
    "dtc.fit(x_train , y_train)"
   ]
  },
  {
   "cell_type": "code",
   "execution_count": 55,
   "id": "5965eced",
   "metadata": {},
   "outputs": [
    {
     "data": {
      "text/plain": [
       "array([0, 0, 1, ..., 0, 1, 0], dtype=int64)"
      ]
     },
     "execution_count": 55,
     "metadata": {},
     "output_type": "execute_result"
    }
   ],
   "source": [
    "pred_dtc = dtc.predict(x_test)\n",
    "pred_dtc"
   ]
  },
  {
   "cell_type": "code",
   "execution_count": 56,
   "id": "ebd8ba99",
   "metadata": {},
   "outputs": [
    {
     "data": {
      "text/plain": [
       "array([[1108,   24],\n",
       "       [  69,  155]], dtype=int64)"
      ]
     },
     "execution_count": 56,
     "metadata": {},
     "output_type": "execute_result"
    }
   ],
   "source": [
    "tab_dtc = confusion_matrix(pred_dtc , y_test)\n",
    "tab_dtc"
   ]
  },
  {
   "cell_type": "code",
   "execution_count": 57,
   "id": "83a27f4c",
   "metadata": {
    "scrolled": false
   },
   "outputs": [
    {
     "name": "stdout",
     "output_type": "stream",
     "text": [
      "              precision    recall  f1-score   support\n",
      "\n",
      "           0       0.98      0.94      0.96      1177\n",
      "           1       0.69      0.87      0.77       179\n",
      "\n",
      "    accuracy                           0.93      1356\n",
      "   macro avg       0.84      0.90      0.86      1356\n",
      "weighted avg       0.94      0.93      0.93      1356\n",
      "\n"
     ]
    }
   ],
   "source": [
    "print(classification_report( y_test , pred_dtc))"
   ]
  },
  {
   "cell_type": "code",
   "execution_count": null,
   "id": "32062268",
   "metadata": {},
   "outputs": [],
   "source": []
  },
  {
   "cell_type": "markdown",
   "id": "10bf8ff9",
   "metadata": {},
   "source": [
    "# 3) DT with ADA-BOOST"
   ]
  },
  {
   "cell_type": "code",
   "execution_count": 58,
   "id": "013a6284",
   "metadata": {},
   "outputs": [],
   "source": [
    "from sklearn.ensemble import AdaBoostClassifier\n",
    "abc_dtc = AdaBoostClassifier(dtc , n_estimators=25)"
   ]
  },
  {
   "cell_type": "code",
   "execution_count": 59,
   "id": "cacc2823",
   "metadata": {},
   "outputs": [
    {
     "data": {
      "text/plain": [
       "AdaBoostClassifier(base_estimator=DecisionTreeClassifier(class_weight='balanced',\n",
       "                                                         criterion='entropy',\n",
       "                                                         max_depth=12,\n",
       "                                                         min_samples_split=25),\n",
       "                   n_estimators=25)"
      ]
     },
     "execution_count": 59,
     "metadata": {},
     "output_type": "execute_result"
    }
   ],
   "source": [
    "abc_dtc.fit(x_train , y_train)"
   ]
  },
  {
   "cell_type": "code",
   "execution_count": 60,
   "id": "390e2196",
   "metadata": {},
   "outputs": [
    {
     "data": {
      "text/plain": [
       "array([0, 0, 0, ..., 0, 1, 0], dtype=int64)"
      ]
     },
     "execution_count": 60,
     "metadata": {},
     "output_type": "execute_result"
    }
   ],
   "source": [
    "pred_dtc_boost = abc_dtc.predict(x_test)\n",
    "pred_dtc_boost"
   ]
  },
  {
   "cell_type": "code",
   "execution_count": 61,
   "id": "ab124404",
   "metadata": {},
   "outputs": [
    {
     "data": {
      "text/plain": [
       "array([[1156,   21],\n",
       "       [  21,  158]], dtype=int64)"
      ]
     },
     "execution_count": 61,
     "metadata": {},
     "output_type": "execute_result"
    }
   ],
   "source": [
    "tab_dtc_boost = confusion_matrix(pred_dtc_boost , y_test)\n",
    "tab_dtc_boost "
   ]
  },
  {
   "cell_type": "code",
   "execution_count": 62,
   "id": "1bf2a70b",
   "metadata": {},
   "outputs": [
    {
     "name": "stdout",
     "output_type": "stream",
     "text": [
      "              precision    recall  f1-score   support\n",
      "\n",
      "           0       0.98      0.98      0.98      1177\n",
      "           1       0.88      0.88      0.88       179\n",
      "\n",
      "    accuracy                           0.97      1356\n",
      "   macro avg       0.93      0.93      0.93      1356\n",
      "weighted avg       0.97      0.97      0.97      1356\n",
      "\n"
     ]
    }
   ],
   "source": [
    "print(classification_report( y_test , pred_dtc_boost)) "
   ]
  },
  {
   "cell_type": "code",
   "execution_count": null,
   "id": "c972170e",
   "metadata": {},
   "outputs": [],
   "source": []
  },
  {
   "cell_type": "markdown",
   "id": "0a3fbef4",
   "metadata": {},
   "source": [
    "# 4) Random Tree"
   ]
  },
  {
   "cell_type": "code",
   "execution_count": 63,
   "id": "cb4f43a9",
   "metadata": {},
   "outputs": [],
   "source": [
    "from sklearn.ensemble import RandomForestClassifier\n",
    "rf = RandomForestClassifier()"
   ]
  },
  {
   "cell_type": "code",
   "execution_count": 64,
   "id": "968d46fa",
   "metadata": {},
   "outputs": [],
   "source": [
    "search_rf = {\"criterion\" : ('entropy' , 'gini'),\n",
    "              \"max_depth\" : (3,4,5,6,7),\n",
    "              \"n_estimators\": (25,50, 100 , 150, 200)}"
   ]
  },
  {
   "cell_type": "code",
   "execution_count": 65,
   "id": "4d0a5ba6",
   "metadata": {},
   "outputs": [],
   "source": [
    "grid_rf = GridSearchCV(rf , param_grid= search_rf)"
   ]
  },
  {
   "cell_type": "code",
   "execution_count": 66,
   "id": "13592c8d",
   "metadata": {},
   "outputs": [
    {
     "data": {
      "text/plain": [
       "GridSearchCV(estimator=RandomForestClassifier(),\n",
       "             param_grid={'criterion': ('entropy', 'gini'),\n",
       "                         'max_depth': (3, 4, 5, 6, 7),\n",
       "                         'n_estimators': (25, 50, 100, 150, 200)})"
      ]
     },
     "execution_count": 66,
     "metadata": {},
     "output_type": "execute_result"
    }
   ],
   "source": [
    "grid_rf.fit(x_train , y_train)"
   ]
  },
  {
   "cell_type": "code",
   "execution_count": 67,
   "id": "80606eba",
   "metadata": {},
   "outputs": [
    {
     "data": {
      "text/plain": [
       "{'criterion': 'gini', 'max_depth': 7, 'n_estimators': 50}"
      ]
     },
     "execution_count": 67,
     "metadata": {},
     "output_type": "execute_result"
    }
   ],
   "source": [
    "grid_rf.best_params_"
   ]
  },
  {
   "cell_type": "markdown",
   "id": "1aab5fa1",
   "metadata": {},
   "source": [
    "# RF by using Grid search"
   ]
  },
  {
   "cell_type": "code",
   "execution_count": 68,
   "id": "46563a84",
   "metadata": {},
   "outputs": [],
   "source": [
    "from sklearn.ensemble import RandomForestClassifier\n",
    "rf = RandomForestClassifier(criterion= 'gini', max_depth= 7 , n_estimators= 50 , class_weight=\"balanced\")"
   ]
  },
  {
   "cell_type": "code",
   "execution_count": 69,
   "id": "60a0b632",
   "metadata": {},
   "outputs": [
    {
     "data": {
      "text/plain": [
       "RandomForestClassifier(class_weight='balanced', max_depth=7, n_estimators=50)"
      ]
     },
     "execution_count": 69,
     "metadata": {},
     "output_type": "execute_result"
    }
   ],
   "source": [
    "rf.fit(x_train , y_train)"
   ]
  },
  {
   "cell_type": "code",
   "execution_count": 70,
   "id": "d9473aed",
   "metadata": {},
   "outputs": [
    {
     "data": {
      "text/plain": [
       "array([0, 0, 0, ..., 0, 1, 0], dtype=int64)"
      ]
     },
     "execution_count": 70,
     "metadata": {},
     "output_type": "execute_result"
    }
   ],
   "source": [
    "pred_rfc = rf.predict(x_test)\n",
    "pred_rfc"
   ]
  },
  {
   "cell_type": "code",
   "execution_count": 71,
   "id": "71709b4e",
   "metadata": {},
   "outputs": [
    {
     "data": {
      "text/plain": [
       "array([[1170,   39],\n",
       "       [   7,  140]], dtype=int64)"
      ]
     },
     "execution_count": 71,
     "metadata": {},
     "output_type": "execute_result"
    }
   ],
   "source": [
    "tab_rfc = confusion_matrix(pred_rfc , y_test)\n",
    "tab_rfc"
   ]
  },
  {
   "cell_type": "code",
   "execution_count": 72,
   "id": "4182ad94",
   "metadata": {},
   "outputs": [
    {
     "name": "stdout",
     "output_type": "stream",
     "text": [
      "              precision    recall  f1-score   support\n",
      "\n",
      "           0       0.97      0.99      0.98      1177\n",
      "           1       0.95      0.78      0.86       179\n",
      "\n",
      "    accuracy                           0.97      1356\n",
      "   macro avg       0.96      0.89      0.92      1356\n",
      "weighted avg       0.97      0.97      0.96      1356\n",
      "\n"
     ]
    }
   ],
   "source": [
    "print(classification_report( y_test , pred_rfc))  "
   ]
  },
  {
   "cell_type": "code",
   "execution_count": null,
   "id": "8fc3d22a",
   "metadata": {},
   "outputs": [],
   "source": []
  },
  {
   "cell_type": "markdown",
   "id": "4e6ad336",
   "metadata": {},
   "source": [
    "# 5) RF with ADA-BOOST"
   ]
  },
  {
   "cell_type": "code",
   "execution_count": 73,
   "id": "c2d8adcf",
   "metadata": {},
   "outputs": [],
   "source": [
    "from sklearn.ensemble import AdaBoostClassifier\n",
    "abc_rfc = AdaBoostClassifier(rf)"
   ]
  },
  {
   "cell_type": "code",
   "execution_count": 74,
   "id": "74eb7e1a",
   "metadata": {},
   "outputs": [
    {
     "data": {
      "text/plain": [
       "AdaBoostClassifier(base_estimator=RandomForestClassifier(class_weight='balanced',\n",
       "                                                         max_depth=7,\n",
       "                                                         n_estimators=50))"
      ]
     },
     "execution_count": 74,
     "metadata": {},
     "output_type": "execute_result"
    }
   ],
   "source": [
    "abc_rfc.fit(x_train , y_train)"
   ]
  },
  {
   "cell_type": "code",
   "execution_count": 75,
   "id": "d9ebac0e",
   "metadata": {},
   "outputs": [
    {
     "data": {
      "text/plain": [
       "array([0, 0, 0, ..., 0, 1, 0], dtype=int64)"
      ]
     },
     "execution_count": 75,
     "metadata": {},
     "output_type": "execute_result"
    }
   ],
   "source": [
    "pred_rfc_boost = abc_rfc.predict(x_test)\n",
    "pred_rfc_boost"
   ]
  },
  {
   "cell_type": "code",
   "execution_count": 76,
   "id": "fc5b08a1",
   "metadata": {},
   "outputs": [
    {
     "data": {
      "text/plain": [
       "array([[1167,   20],\n",
       "       [  10,  159]], dtype=int64)"
      ]
     },
     "execution_count": 76,
     "metadata": {},
     "output_type": "execute_result"
    }
   ],
   "source": [
    "tab_rfc_boost = confusion_matrix(pred_rfc_boost , y_test)\n",
    "tab_rfc_boost"
   ]
  },
  {
   "cell_type": "code",
   "execution_count": 77,
   "id": "a06e7a2e",
   "metadata": {},
   "outputs": [
    {
     "name": "stdout",
     "output_type": "stream",
     "text": [
      "              precision    recall  f1-score   support\n",
      "\n",
      "           0       0.98      0.99      0.99      1177\n",
      "           1       0.94      0.89      0.91       179\n",
      "\n",
      "    accuracy                           0.98      1356\n",
      "   macro avg       0.96      0.94      0.95      1356\n",
      "weighted avg       0.98      0.98      0.98      1356\n",
      "\n"
     ]
    }
   ],
   "source": [
    "print(classification_report( y_test , pred_rfc_boost))"
   ]
  },
  {
   "cell_type": "code",
   "execution_count": null,
   "id": "45edb731",
   "metadata": {},
   "outputs": [],
   "source": []
  },
  {
   "cell_type": "markdown",
   "id": "1326f37d",
   "metadata": {},
   "source": [
    "# 6) Naive Bayes"
   ]
  },
  {
   "cell_type": "code",
   "execution_count": 78,
   "id": "d1fa6252",
   "metadata": {},
   "outputs": [],
   "source": [
    "from sklearn.naive_bayes import MultinomialNB\n",
    "naive_bays = MultinomialNB()"
   ]
  },
  {
   "cell_type": "code",
   "execution_count": 79,
   "id": "1f0442d1",
   "metadata": {},
   "outputs": [],
   "source": [
    "nb = naive_bays.fit(x_train , y_train)"
   ]
  },
  {
   "cell_type": "code",
   "execution_count": 80,
   "id": "246d008b",
   "metadata": {},
   "outputs": [
    {
     "data": {
      "text/plain": [
       "array([0, 1, 0, ..., 0, 1, 0], dtype=int64)"
      ]
     },
     "execution_count": 80,
     "metadata": {},
     "output_type": "execute_result"
    }
   ],
   "source": [
    "pred_nb = nb.predict(x_test)\n",
    "pred_nb "
   ]
  },
  {
   "cell_type": "code",
   "execution_count": 81,
   "id": "a02a1403",
   "metadata": {},
   "outputs": [
    {
     "data": {
      "text/plain": [
       "array([[1153,   13],\n",
       "       [  24,  166]], dtype=int64)"
      ]
     },
     "execution_count": 81,
     "metadata": {},
     "output_type": "execute_result"
    }
   ],
   "source": [
    "tab_nb = confusion_matrix(pred_nb , y_test)\n",
    "tab_nb"
   ]
  },
  {
   "cell_type": "code",
   "execution_count": 82,
   "id": "660b2190",
   "metadata": {},
   "outputs": [
    {
     "name": "stdout",
     "output_type": "stream",
     "text": [
      "              precision    recall  f1-score   support\n",
      "\n",
      "           0       0.99      0.98      0.98      1177\n",
      "           1       0.87      0.93      0.90       179\n",
      "\n",
      "    accuracy                           0.97      1356\n",
      "   macro avg       0.93      0.95      0.94      1356\n",
      "weighted avg       0.97      0.97      0.97      1356\n",
      "\n"
     ]
    }
   ],
   "source": [
    "print(classification_report(y_test , pred_nb))"
   ]
  },
  {
   "cell_type": "code",
   "execution_count": null,
   "id": "34751c00",
   "metadata": {},
   "outputs": [],
   "source": []
  },
  {
   "cell_type": "markdown",
   "id": "543a6831",
   "metadata": {},
   "source": [
    "# 7) KNN "
   ]
  },
  {
   "cell_type": "code",
   "execution_count": 83,
   "id": "f8403e3c",
   "metadata": {},
   "outputs": [],
   "source": [
    "x=list(range(1,51))\n",
    "acc_y = []\n",
    "for k in x:\n",
    "    from sklearn.neighbors import KNeighborsClassifier\n",
    "    kn = KNeighborsClassifier(n_neighbors=k)\n",
    "    kn.fit(x_train , y_train)\n",
    "    pred_kn = kn.predict(x_test)\n",
    "    pred_kn\n",
    "    tab_kn = confusion_matrix(pred_kn , y_test)\n",
    "    tab_kn\n",
    "    Acc = tab_kn.diagonal().sum()* 100 / tab_kn.sum()\n",
    "    acc_y.append(Acc)"
   ]
  },
  {
   "cell_type": "code",
   "execution_count": 84,
   "id": "63a9447e",
   "metadata": {
    "scrolled": false
   },
   "outputs": [
    {
     "data": {
      "image/png": "[encoded data removed]",
      "text/plain": [
       "<Figure size 720x720 with 1 Axes>"
      ]
     },
     "metadata": {
      "needs_background": "light"
     },
     "output_type": "display_data"
    }
   ],
   "source": [
    "plt.figure(figsize=(10,10))\n",
    "plt.plot(x , acc_y , \".\" , linestyle='-' , c=\"black\" )\n",
    "plt.xlabel(\"Value of K\",fontsize=18)\n",
    "plt.ylabel(\"Accuracy\", fontsize=18)\n",
    "plt.title(\"Graph of K vs Accuracy on spam1.csv data\" , fontsize=18)\n",
    "plt.grid()"
   ]
  },
  {
   "cell_type": "code",
   "execution_count": null,
   "id": "45a16a9d",
   "metadata": {},
   "outputs": [],
   "source": [
    "# here i  decide value of K by using trade of between accuracy & stability \n",
    "# the region were more stable model then i choose that point as a value of K\n",
    "# so for this model i decide value ok K = 35 because between 32 to 50 model looks more stable "
   ]
  },
  {
   "cell_type": "markdown",
   "id": "f5d8f5c2",
   "metadata": {},
   "source": [
    "# k=35"
   ]
  },
  {
   "cell_type": "code",
   "execution_count": 85,
   "id": "3f1a7be4",
   "metadata": {},
   "outputs": [],
   "source": [
    "from sklearn.neighbors import KNeighborsClassifier"
   ]
  },
  {
   "cell_type": "code",
   "execution_count": 86,
   "id": "fe818d18",
   "metadata": {},
   "outputs": [],
   "source": [
    "knn = KNeighborsClassifier(n_neighbors= 35)"
   ]
  },
  {
   "cell_type": "code",
   "execution_count": 87,
   "id": "fa66886d",
   "metadata": {},
   "outputs": [
    {
     "data": {
      "text/plain": [
       "KNeighborsClassifier(n_neighbors=35)"
      ]
     },
     "execution_count": 87,
     "metadata": {},
     "output_type": "execute_result"
    }
   ],
   "source": [
    "knn.fit(x_train , y_train)"
   ]
  },
  {
   "cell_type": "code",
   "execution_count": 88,
   "id": "9aa41c56",
   "metadata": {},
   "outputs": [
    {
     "data": {
      "text/plain": [
       "array([0, 0, 0, ..., 0, 0, 0], dtype=int64)"
      ]
     },
     "execution_count": 88,
     "metadata": {},
     "output_type": "execute_result"
    }
   ],
   "source": [
    "pred_knn = knn.predict(x_test)\n",
    "pred_knn"
   ]
  },
  {
   "cell_type": "code",
   "execution_count": 89,
   "id": "7bc413aa",
   "metadata": {},
   "outputs": [
    {
     "data": {
      "text/plain": [
       "array([[1177,  178],\n",
       "       [   0,    1]], dtype=int64)"
      ]
     },
     "execution_count": 89,
     "metadata": {},
     "output_type": "execute_result"
    }
   ],
   "source": [
    "tab_knn = confusion_matrix(pred_knn , y_test)\n",
    "tab_knn"
   ]
  },
  {
   "cell_type": "code",
   "execution_count": 90,
   "id": "d0c85e96",
   "metadata": {},
   "outputs": [
    {
     "name": "stdout",
     "output_type": "stream",
     "text": [
      "              precision    recall  f1-score   support\n",
      "\n",
      "           0       0.87      1.00      0.93      1177\n",
      "           1       1.00      0.01      0.01       179\n",
      "\n",
      "    accuracy                           0.87      1356\n",
      "   macro avg       0.93      0.50      0.47      1356\n",
      "weighted avg       0.89      0.87      0.81      1356\n",
      "\n"
     ]
    }
   ],
   "source": [
    "print(classification_report(y_test , pred_knn))"
   ]
  },
  {
   "cell_type": "code",
   "execution_count": null,
   "id": "32ba1697",
   "metadata": {},
   "outputs": [],
   "source": []
  },
  {
   "cell_type": "markdown",
   "id": "98044fee",
   "metadata": {},
   "source": [
    "# k=82"
   ]
  },
  {
   "cell_type": "code",
   "execution_count": 91,
   "id": "47c2b635",
   "metadata": {},
   "outputs": [
    {
     "data": {
      "text/plain": [
       "(6776, 9422)"
      ]
     },
     "execution_count": 91,
     "metadata": {},
     "output_type": "execute_result"
    }
   ],
   "source": [
    "messages_bow.shape"
   ]
  },
  {
   "cell_type": "code",
   "execution_count": 92,
   "id": "a38ed04a",
   "metadata": {},
   "outputs": [
    {
     "data": {
      "text/plain": [
       "82.3164625090267"
      ]
     },
     "execution_count": 92,
     "metadata": {},
     "output_type": "execute_result"
    }
   ],
   "source": [
    "k=np.sqrt(messages_bow.shape[0])\n",
    "k"
   ]
  },
  {
   "cell_type": "code",
   "execution_count": 93,
   "id": "d1363615",
   "metadata": {},
   "outputs": [],
   "source": [
    "from sklearn.neighbors import KNeighborsClassifier\n",
    "knn = KNeighborsClassifier(n_neighbors= 82)"
   ]
  },
  {
   "cell_type": "code",
   "execution_count": 94,
   "id": "344736e3",
   "metadata": {},
   "outputs": [
    {
     "data": {
      "text/plain": [
       "KNeighborsClassifier(n_neighbors=82)"
      ]
     },
     "execution_count": 94,
     "metadata": {},
     "output_type": "execute_result"
    }
   ],
   "source": [
    "knn.fit(x_train , y_train)"
   ]
  },
  {
   "cell_type": "code",
   "execution_count": 95,
   "id": "6fb0a672",
   "metadata": {},
   "outputs": [
    {
     "data": {
      "text/plain": [
       "array([0, 0, 0, ..., 0, 0, 0], dtype=int64)"
      ]
     },
     "execution_count": 95,
     "metadata": {},
     "output_type": "execute_result"
    }
   ],
   "source": [
    "pred_knn = knn.predict(x_test)\n",
    "pred_knn"
   ]
  },
  {
   "cell_type": "code",
   "execution_count": 96,
   "id": "1faf6ac9",
   "metadata": {},
   "outputs": [
    {
     "data": {
      "text/plain": [
       "array([[1177,  179],\n",
       "       [   0,    0]], dtype=int64)"
      ]
     },
     "execution_count": 96,
     "metadata": {},
     "output_type": "execute_result"
    }
   ],
   "source": [
    "tab_knn = confusion_matrix(pred_knn , y_test)\n",
    "tab_knn"
   ]
  },
  {
   "cell_type": "code",
   "execution_count": 97,
   "id": "b0a791fc",
   "metadata": {},
   "outputs": [
    {
     "name": "stdout",
     "output_type": "stream",
     "text": [
      "              precision    recall  f1-score   support\n",
      "\n",
      "           0       0.87      1.00      0.93      1177\n",
      "           1       0.00      0.00      0.00       179\n",
      "\n",
      "    accuracy                           0.87      1356\n",
      "   macro avg       0.43      0.50      0.46      1356\n",
      "weighted avg       0.75      0.87      0.81      1356\n",
      "\n"
     ]
    },
    {
     "name": "stderr",
     "output_type": "stream",
     "text": [
      "C:\\Users\\DELL\\anaconda3\\lib\\site-packages\\sklearn\\metrics\\_classification.py:1245: UndefinedMetricWarning: Precision and F-score are ill-defined and being set to 0.0 in labels with no predicted samples. Use `zero_division` parameter to control this behavior.\n",
      "  _warn_prf(average, modifier, msg_start, len(result))\n",
      "C:\\Users\\DELL\\anaconda3\\lib\\site-packages\\sklearn\\metrics\\_classification.py:1245: UndefinedMetricWarning: Precision and F-score are ill-defined and being set to 0.0 in labels with no predicted samples. Use `zero_division` parameter to control this behavior.\n",
      "  _warn_prf(average, modifier, msg_start, len(result))\n",
      "C:\\Users\\DELL\\anaconda3\\lib\\site-packages\\sklearn\\metrics\\_classification.py:1245: UndefinedMetricWarning: Precision and F-score are ill-defined and being set to 0.0 in labels with no predicted samples. Use `zero_division` parameter to control this behavior.\n",
      "  _warn_prf(average, modifier, msg_start, len(result))\n"
     ]
    }
   ],
   "source": [
    "print(classification_report(y_test , pred_knn))"
   ]
  },
  {
   "cell_type": "code",
   "execution_count": null,
   "id": "54cf2c08",
   "metadata": {},
   "outputs": [],
   "source": []
  },
  {
   "cell_type": "markdown",
   "id": "36b01b60",
   "metadata": {},
   "source": [
    "# 8) SVM "
   ]
  },
  {
   "cell_type": "code",
   "execution_count": 110,
   "id": "04a0c3cf",
   "metadata": {},
   "outputs": [],
   "source": [
    "from sklearn.model_selection import GridSearchCV"
   ]
  },
  {
   "cell_type": "code",
   "execution_count": 111,
   "id": "4bb69724",
   "metadata": {},
   "outputs": [],
   "source": [
    "search_dict = {\"kernel\" : ('linear', 'poly' , 'rbf', 'sigmoid')}"
   ]
  },
  {
   "cell_type": "code",
   "execution_count": 112,
   "id": "8295068d",
   "metadata": {},
   "outputs": [],
   "source": [
    "from sklearn.svm import SVC\n",
    "svc_model = SVC()"
   ]
  },
  {
   "cell_type": "code",
   "execution_count": 113,
   "id": "ea9fbe3e",
   "metadata": {},
   "outputs": [],
   "source": [
    "grid_svc = GridSearchCV(svc_model , param_grid= search_dict)"
   ]
  },
  {
   "cell_type": "code",
   "execution_count": 114,
   "id": "b5963b66",
   "metadata": {
    "scrolled": true
   },
   "outputs": [
    {
     "data": {
      "text/plain": [
       "GridSearchCV(estimator=SVC(),\n",
       "             param_grid={'kernel': ('linear', 'poly', 'rbf', 'sigmoid')})"
      ]
     },
     "execution_count": 114,
     "metadata": {},
     "output_type": "execute_result"
    }
   ],
   "source": [
    "grid_svc.fit(x_train , y_train)"
   ]
  },
  {
   "cell_type": "code",
   "execution_count": 115,
   "id": "5bf0dec7",
   "metadata": {},
   "outputs": [
    {
     "data": {
      "text/plain": [
       "{'kernel': 'linear'}"
      ]
     },
     "execution_count": 115,
     "metadata": {},
     "output_type": "execute_result"
    }
   ],
   "source": [
    "grid_svc.best_params_    "
   ]
  },
  {
   "cell_type": "markdown",
   "id": "76212088",
   "metadata": {},
   "source": [
    "# SVM by using Grid Search"
   ]
  },
  {
   "cell_type": "code",
   "execution_count": 98,
   "id": "671a0545",
   "metadata": {},
   "outputs": [],
   "source": [
    "from sklearn.svm import SVC"
   ]
  },
  {
   "cell_type": "code",
   "execution_count": 99,
   "id": "03d8712c",
   "metadata": {},
   "outputs": [],
   "source": [
    "svm_best = SVC(kernel ='linear')"
   ]
  },
  {
   "cell_type": "code",
   "execution_count": 100,
   "id": "e59e705d",
   "metadata": {},
   "outputs": [
    {
     "data": {
      "text/plain": [
       "SVC(kernel='linear')"
      ]
     },
     "execution_count": 100,
     "metadata": {},
     "output_type": "execute_result"
    }
   ],
   "source": [
    "svm_best.fit(x_train , y_train)"
   ]
  },
  {
   "cell_type": "code",
   "execution_count": 101,
   "id": "7e93ca12",
   "metadata": {},
   "outputs": [
    {
     "data": {
      "text/plain": [
       "array([0, 0, 0, ..., 0, 1, 0], dtype=int64)"
      ]
     },
     "execution_count": 101,
     "metadata": {},
     "output_type": "execute_result"
    }
   ],
   "source": [
    "pred_svm = svm_best.predict(x_test)\n",
    "pred_svm"
   ]
  },
  {
   "cell_type": "code",
   "execution_count": 102,
   "id": "a8324b62",
   "metadata": {},
   "outputs": [
    {
     "data": {
      "text/plain": [
       "array([[1173,   22],\n",
       "       [   4,  157]], dtype=int64)"
      ]
     },
     "execution_count": 102,
     "metadata": {},
     "output_type": "execute_result"
    }
   ],
   "source": [
    "tab_svm = confusion_matrix(pred_svm , y_test)\n",
    "tab_svm "
   ]
  },
  {
   "cell_type": "code",
   "execution_count": 103,
   "id": "dbade9bd",
   "metadata": {
    "scrolled": false
   },
   "outputs": [
    {
     "name": "stdout",
     "output_type": "stream",
     "text": [
      "              precision    recall  f1-score   support\n",
      "\n",
      "           0       0.98      1.00      0.99      1177\n",
      "           1       0.98      0.88      0.92       179\n",
      "\n",
      "    accuracy                           0.98      1356\n",
      "   macro avg       0.98      0.94      0.96      1356\n",
      "weighted avg       0.98      0.98      0.98      1356\n",
      "\n"
     ]
    }
   ],
   "source": [
    "print(classification_report(y_test , pred_svm))"
   ]
  },
  {
   "cell_type": "code",
   "execution_count": null,
   "id": "7289d3b4",
   "metadata": {},
   "outputs": [],
   "source": []
  },
  {
   "cell_type": "markdown",
   "id": "78e564b0",
   "metadata": {},
   "source": [
    "## WORDCLOUD"
   ]
  },
  {
   "cell_type": "markdown",
   "id": "f4c26216",
   "metadata": {},
   "source": [
    "#! pip install wordcloud"
   ]
  },
  {
   "cell_type": "code",
   "execution_count": 104,
   "id": "6f37b069",
   "metadata": {},
   "outputs": [],
   "source": [
    "from wordcloud import WordCloud"
   ]
  },
  {
   "cell_type": "code",
   "execution_count": 105,
   "id": "cdf4b855",
   "metadata": {},
   "outputs": [
    {
     "data": {
      "text/plain": [
       "<matplotlib.image.AxesImage at 0x25da48b8400>"
      ]
     },
     "execution_count": 105,
     "metadata": {},
     "output_type": "execute_result"
    },
    {
     "data": {
      "image/png": "[encoded data removed]",
      "text/plain": [
       "<Figure size 720x720 with 1 Axes>"
      ]
     },
     "metadata": {
      "needs_background": "light"
     },
     "output_type": "display_data"
    }
   ],
   "source": [
    "cloud = WordCloud().generate(str(messages['message']))\n",
    "plt.figure(figsize=(10,10))\n",
    "plt.imshow(cloud)  "
   ]
  },
  {
   "cell_type": "code",
   "execution_count": null,
   "id": "e3b66fca",
   "metadata": {},
   "outputs": [],
   "source": [
    "# Here I craete a separate df on ham & spam & then plot it  "
   ]
  },
  {
   "cell_type": "code",
   "execution_count": 107,
   "id": "d10d4fee",
   "metadata": {},
   "outputs": [],
   "source": [
    "df_ham = messages[messages.label==0]\n",
    "df_spam = messages[messages.label==1]"
   ]
  },
  {
   "cell_type": "code",
   "execution_count": 108,
   "id": "5581390e",
   "metadata": {
    "scrolled": true
   },
   "outputs": [
    {
     "data": {
      "text/plain": [
       "<matplotlib.image.AxesImage at 0x25da496c490>"
      ]
     },
     "execution_count": 108,
     "metadata": {},
     "output_type": "execute_result"
    },
    {
     "data": {
      "image/png": "[encoded data removed]",
      "text/plain": [
       "<Figure size 720x720 with 1 Axes>"
      ]
     },
     "metadata": {
      "needs_background": "light"
     },
     "output_type": "display_data"
    }
   ],
   "source": [
    "cloud = WordCloud().generate(str(df_ham['message']))\n",
    "plt.figure(figsize=(10,10))\n",
    "plt.imshow(cloud)  "
   ]
  },
  {
   "cell_type": "code",
   "execution_count": 109,
   "id": "166b7021",
   "metadata": {},
   "outputs": [
    {
     "data": {
      "text/plain": [
       "<matplotlib.image.AxesImage at 0x25daab06970>"
      ]
     },
     "execution_count": 109,
     "metadata": {},
     "output_type": "execute_result"
    },
    {
     "data": {
      "image/png": "[encoded data removed]",
      "text/plain": [
       "<Figure size 720x720 with 1 Axes>"
      ]
     },
     "metadata": {
      "needs_background": "light"
     },
     "output_type": "display_data"
    }
   ],
   "source": [
    "cloud = WordCloud().generate(str(df_spam['message']))\n",
    "plt.figure(figsize=(10,10))\n",
    "plt.imshow(cloud)"
   ]
  },
  {
   "cell_type": "code",
   "execution_count": null,
   "id": "2055c027",
   "metadata": {},
   "outputs": [],
   "source": []
  },
  {
   "cell_type": "code",
   "execution_count": null,
   "id": "8b2ce58a",
   "metadata": {},
   "outputs": [],
   "source": []
  },
  {
   "cell_type": "code",
   "execution_count": null,
   "id": "11a10f53",
   "metadata": {},
   "outputs": [],
   "source": []
  }
 ],
 "metadata": {
  "kernelspec": {
   "display_name": "Python 3",
   "language": "python",
   "name": "python3"
  },
  "language_info": {
   "codemirror_mode": {
    "name": "ipython",
    "version": 3
   },
   "file_extension": ".py",
   "mimetype": "text/x-python",
   "name": "python",
   "nbconvert_exporter": "python",
   "pygments_lexer": "ipython3",
   "version": "3.8.8"
  }
 },
 "nbformat": 4,
 "nbformat_minor": 5
}
